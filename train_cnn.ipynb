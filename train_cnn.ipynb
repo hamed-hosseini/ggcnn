{
  "nbformat": 4,
  "nbformat_minor": 0,
  "metadata": {
    "colab": {
      "name": "train_cnn.ipynb",
      "provenance": [],
      "collapsed_sections": [],
      "include_colab_link": true
    },
    "kernelspec": {
      "name": "python3",
      "display_name": "Python 3"
    },
    "accelerator": "GPU"
  },
  "cells": [
    {
      "cell_type": "markdown",
      "metadata": {
        "id": "view-in-github",
        "colab_type": "text"
      },
      "source": [
        "<a href=\"https://colab.research.google.com/github/hamed-hosseini/ggcnn/blob/master/train_cnn.ipynb\" target=\"_parent\"><img src=\"https://colab.research.google.com/assets/colab-badge.svg\" alt=\"Open In Colab\"/></a>"
      ]
    },
    {
      "cell_type": "code",
      "metadata": {
        "id": "9xJJ_Dn43yUp",
        "colab_type": "code",
        "outputId": "71781fff-e8a0-408c-93ac-502d6d0e27b6",
        "colab": {
          "base_uri": "https://localhost:8080/",
          "height": 123
        }
      },
      "source": [
        "from google.colab import drive\n",
        "drive.mount('/content/drive')"
      ],
      "execution_count": 1,
      "outputs": [
        {
          "output_type": "stream",
          "text": [
            "Go to this URL in a browser: https://accounts.google.com/o/oauth2/auth?client_id=947318989803-6bn6qk8qdgf4n4g3pfee6491hc0brc4i.apps.googleusercontent.com&redirect_uri=urn%3aietf%3awg%3aoauth%3a2.0%3aoob&response_type=code&scope=email%20https%3a%2f%2fwww.googleapis.com%2fauth%2fdocs.test%20https%3a%2f%2fwww.googleapis.com%2fauth%2fdrive%20https%3a%2f%2fwww.googleapis.com%2fauth%2fdrive.photos.readonly%20https%3a%2f%2fwww.googleapis.com%2fauth%2fpeopleapi.readonly\n",
            "\n",
            "Enter your authorization code:\n",
            "··········\n",
            "Mounted at /content/drive\n"
          ],
          "name": "stdout"
        }
      ]
    },
    {
      "cell_type": "code",
      "metadata": {
        "id": "g2QKI9xZ6C5-",
        "colab_type": "code",
        "outputId": "6e7229b5-da04-47ba-9204-e99f5b182fd6",
        "colab": {
          "base_uri": "https://localhost:8080/",
          "height": 175
        }
      },
      "source": [
        "import sys\n",
        "!git clone https://github.com/hamed-hosseini/ggcnn.git\n",
        "sys.path.append(\"ggcnn\")\n",
        "print(sys.path)"
      ],
      "execution_count": 2,
      "outputs": [
        {
          "output_type": "stream",
          "text": [
            "Cloning into 'ggcnn'...\n",
            "remote: Enumerating objects: 34, done.\u001b[K\n",
            "remote: Counting objects:   2% (1/34)\u001b[K\rremote: Counting objects:   5% (2/34)\u001b[K\rremote: Counting objects:   8% (3/34)\u001b[K\rremote: Counting objects:  11% (4/34)\u001b[K\rremote: Counting objects:  14% (5/34)\u001b[K\rremote: Counting objects:  17% (6/34)\u001b[K\rremote: Counting objects:  20% (7/34)\u001b[K\rremote: Counting objects:  23% (8/34)\u001b[K\rremote: Counting objects:  26% (9/34)\u001b[K\rremote: Counting objects:  29% (10/34)\u001b[K\rremote: Counting objects:  32% (11/34)\u001b[K\rremote: Counting objects:  35% (12/34)\u001b[K\rremote: Counting objects:  38% (13/34)\u001b[K\rremote: Counting objects:  41% (14/34)\u001b[K\rremote: Counting objects:  44% (15/34)\u001b[K\rremote: Counting objects:  47% (16/34)\u001b[K\rremote: Counting objects:  50% (17/34)\u001b[K\rremote: Counting objects:  52% (18/34)\u001b[K\rremote: Counting objects:  55% (19/34)\u001b[K\rremote: Counting objects:  58% (20/34)\u001b[K\rremote: Counting objects:  61% (21/34)\u001b[K\rremote: Counting objects:  64% (22/34)\u001b[K\rremote: Counting objects:  67% (23/34)\u001b[K\rremote: Counting objects:  70% (24/34)\u001b[K\rremote: Counting objects:  73% (25/34)\u001b[K\rremote: Counting objects:  76% (26/34)\u001b[K\rremote: Counting objects:  79% (27/34)\u001b[K\rremote: Counting objects:  82% (28/34)\u001b[K\rremote: Counting objects:  85% (29/34)\u001b[K\rremote: Counting objects:  88% (30/34)\u001b[K\rremote: Counting objects:  91% (31/34)\u001b[K\rremote: Counting objects:  94% (32/34)\u001b[K\rremote: Counting objects:  97% (33/34)\u001b[K\rremote: Counting objects: 100% (34/34)\u001b[K\rremote: Counting objects: 100% (34/34), done.\u001b[K\n",
            "remote: Compressing objects:   3% (1/28)\u001b[K\rremote: Compressing objects:   7% (2/28)\u001b[K\rremote: Compressing objects:  10% (3/28)\u001b[K\rremote: Compressing objects:  14% (4/28)\u001b[K\rremote: Compressing objects:  17% (5/28)\u001b[K\rremote: Compressing objects:  21% (6/28)\u001b[K\rremote: Compressing objects:  25% (7/28)\u001b[K\rremote: Compressing objects:  28% (8/28)\u001b[K\rremote: Compressing objects:  32% (9/28)\u001b[K\rremote: Compressing objects:  35% (10/28)\u001b[K\rremote: Compressing objects:  39% (11/28)\u001b[K\rremote: Compressing objects:  42% (12/28)\u001b[K\rremote: Compressing objects:  46% (13/28)\u001b[K\rremote: Compressing objects:  50% (14/28)\u001b[K\rremote: Compressing objects:  53% (15/28)\u001b[K\rremote: Compressing objects:  57% (16/28)\u001b[K\rremote: Compressing objects:  60% (17/28)\u001b[K\rremote: Compressing objects:  64% (18/28)\u001b[K\rremote: Compressing objects:  67% (19/28)\u001b[K\rremote: Compressing objects:  71% (20/28)\u001b[K\rremote: Compressing objects:  75% (21/28)\u001b[K\rremote: Compressing objects:  78% (22/28)\u001b[K\rremote: Compressing objects:  82% (23/28)\u001b[K\rremote: Compressing objects:  85% (24/28)\u001b[K\rremote: Compressing objects:  89% (25/28)\u001b[K\rremote: Compressing objects:  92% (26/28)\u001b[K\rremote: Compressing objects:  96% (27/28)\u001b[K\rremote: Compressing objects: 100% (28/28)\u001b[K\rremote: Compressing objects: 100% (28/28), done.\u001b[K\n",
            "Receiving objects:   0% (1/180)   \rReceiving objects:   1% (2/180)   \rReceiving objects:   2% (4/180)   \rReceiving objects:   3% (6/180)   \rReceiving objects:   4% (8/180)   \rReceiving objects:   5% (9/180)   \rReceiving objects:   6% (11/180)   \rReceiving objects:   7% (13/180)   \rReceiving objects:   8% (15/180)   \rReceiving objects:   9% (17/180)   \rReceiving objects:  10% (18/180)   \rReceiving objects:  11% (20/180)   \rReceiving objects:  12% (22/180)   \rReceiving objects:  13% (24/180)   \rReceiving objects:  14% (26/180)   \rReceiving objects:  15% (27/180)   \rReceiving objects:  16% (29/180)   \rReceiving objects:  17% (31/180)   \rReceiving objects:  18% (33/180)   \rReceiving objects:  19% (35/180)   \rReceiving objects:  20% (36/180)   \rReceiving objects:  21% (38/180)   \rReceiving objects:  22% (40/180)   \rReceiving objects:  23% (42/180)   \rReceiving objects:  24% (44/180)   \rReceiving objects:  25% (45/180)   \rReceiving objects:  26% (47/180)   \rReceiving objects:  27% (49/180)   \rReceiving objects:  28% (51/180)   \rReceiving objects:  29% (53/180)   \rReceiving objects:  30% (54/180)   \rReceiving objects:  31% (56/180)   \rReceiving objects:  32% (58/180)   \rReceiving objects:  33% (60/180)   \rReceiving objects:  34% (62/180)   \rReceiving objects:  35% (63/180)   \rReceiving objects:  36% (65/180)   \rReceiving objects:  37% (67/180)   \rReceiving objects:  38% (69/180)   \rReceiving objects:  39% (71/180)   \rReceiving objects:  40% (72/180)   \rReceiving objects:  41% (74/180)   \rReceiving objects:  42% (76/180)   \rReceiving objects:  43% (78/180)   \rReceiving objects:  44% (80/180)   \rReceiving objects:  45% (81/180)   \rReceiving objects:  46% (83/180)   \rReceiving objects:  47% (85/180)   \rReceiving objects:  48% (87/180)   \rReceiving objects:  49% (89/180)   \rReceiving objects:  50% (90/180)   \rReceiving objects:  51% (92/180)   \rReceiving objects:  52% (94/180)   \rReceiving objects:  53% (96/180)   \rReceiving objects:  54% (98/180)   \rReceiving objects:  55% (99/180)   \rReceiving objects:  56% (101/180)   \rReceiving objects:  57% (103/180)   \rReceiving objects:  58% (105/180)   \rReceiving objects:  59% (107/180)   \rReceiving objects:  60% (108/180)   \rReceiving objects:  61% (110/180)   \rReceiving objects:  62% (112/180)   \rReceiving objects:  63% (114/180)   \rReceiving objects:  64% (116/180)   \rReceiving objects:  65% (117/180)   \rReceiving objects:  66% (119/180)   \rReceiving objects:  67% (121/180)   \rReceiving objects:  68% (123/180)   \rReceiving objects:  69% (125/180)   \rremote: Total 180 (delta 14), reused 17 (delta 6), pack-reused 146\u001b[K\n",
            "Receiving objects:  70% (126/180)   \rReceiving objects:  71% (128/180)   \rReceiving objects:  72% (130/180)   \rReceiving objects:  73% (132/180)   \rReceiving objects:  74% (134/180)   \rReceiving objects:  75% (135/180)   \rReceiving objects:  76% (137/180)   \rReceiving objects:  77% (139/180)   \rReceiving objects:  78% (141/180)   \rReceiving objects:  79% (143/180)   \rReceiving objects:  80% (144/180)   \rReceiving objects:  81% (146/180)   \rReceiving objects:  82% (148/180)   \rReceiving objects:  83% (150/180)   \rReceiving objects:  84% (152/180)   \rReceiving objects:  85% (153/180)   \rReceiving objects:  86% (155/180)   \rReceiving objects:  87% (157/180)   \rReceiving objects:  88% (159/180)   \rReceiving objects:  89% (161/180)   \rReceiving objects:  90% (162/180)   \rReceiving objects:  91% (164/180)   \rReceiving objects:  92% (166/180)   \rReceiving objects:  93% (168/180)   \rReceiving objects:  94% (170/180)   \rReceiving objects:  95% (171/180)   \rReceiving objects:  96% (173/180)   \rReceiving objects:  97% (175/180)   \rReceiving objects:  98% (177/180)   \rReceiving objects:  99% (179/180)   \rReceiving objects: 100% (180/180)   \rReceiving objects: 100% (180/180), 166.36 KiB | 3.54 MiB/s, done.\n",
            "Resolving deltas:   0% (0/67)   \rResolving deltas:   1% (1/67)   \rResolving deltas:   2% (2/67)   \rResolving deltas:   4% (3/67)   \rResolving deltas:   8% (6/67)   \rResolving deltas:  13% (9/67)   \rResolving deltas:  14% (10/67)   \rResolving deltas:  16% (11/67)   \rResolving deltas:  17% (12/67)   \rResolving deltas:  20% (14/67)   \rResolving deltas:  23% (16/67)   \rResolving deltas:  29% (20/67)   \rResolving deltas:  31% (21/67)   \rResolving deltas:  38% (26/67)   \rResolving deltas:  41% (28/67)   \rResolving deltas:  56% (38/67)   \rResolving deltas:  61% (41/67)   \rResolving deltas:  62% (42/67)   \rResolving deltas:  64% (43/67)   \rResolving deltas:  65% (44/67)   \rResolving deltas:  74% (50/67)   \rResolving deltas:  77% (52/67)   \rResolving deltas:  79% (53/67)   \rResolving deltas:  92% (62/67)   \rResolving deltas:  94% (63/67)   \rResolving deltas:  98% (66/67)   \rResolving deltas: 100% (67/67)   \rResolving deltas: 100% (67/67), done.\n",
            "['', '/env/python', '/usr/lib/python36.zip', '/usr/lib/python3.6', '/usr/lib/python3.6/lib-dynload', '/usr/local/lib/python3.6/dist-packages', '/usr/lib/python3/dist-packages', '/usr/local/lib/python3.6/dist-packages/IPython/extensions', '/root/.ipython', 'ggcnn']\n"
          ],
          "name": "stdout"
        }
      ]
    },
    {
      "cell_type": "code",
      "metadata": {
        "id": "FCER7k2sJLtL",
        "colab_type": "code",
        "outputId": "1d2e4f64-19df-488d-905f-c0713da7720d",
        "colab": {
          "base_uri": "https://localhost:8080/",
          "height": 34
        }
      },
      "source": [
        "!ls \"drive/My Drive/cornell_dataset\""
      ],
      "execution_count": 0,
      "outputs": [
        {
          "output_type": "stream",
          "text": [
            "02  03\t04  05\t06  07\t08  09\n"
          ],
          "name": "stdout"
        }
      ]
    },
    {
      "cell_type": "code",
      "metadata": {
        "id": "mrB6t_Os8C5L",
        "colab_type": "code",
        "outputId": "e8f05b8a-817a-4a95-d5dd-6fad80ce29ef",
        "colab": {
          "base_uri": "https://localhost:8080/",
          "height": 433
        }
      },
      "source": [
        "import numpy as np\n",
        "import datetime\n",
        "import os\n",
        "import sys\n",
        "import argparse\n",
        "import logging\n",
        "\n",
        "# import cv2\n",
        "from matplotlib import pyplot as plt\n",
        "import torch\n",
        "import torch.utils.data\n",
        "import torch.optim as optim\n",
        "import torch.nn as nn\n",
        "import torch.nn.functional as F\n",
        "from torchsummary import summary\n",
        "\n",
        "# import tensorboardX\n",
        "\n",
        "from utils.visualisation.gridshow import gridshow\n",
        "\n",
        "from utils.dataset_processing import evaluation\n",
        "from utils.data import get_dataset\n",
        "from models import get_network\n",
        "from models.common import post_process_output\n",
        "\n",
        "logging.basicConfig(level=logging.INFO)\n",
        "\n",
        "from utils.visualisation.gridshow import show_image\n",
        "from datetime import datetime as dtime\n",
        "save_folder = 'saved'\n",
        "now = dtime.now()\n",
        "time = 'test'\n",
        "class Args():\n",
        "  network= 'ggcnn'\n",
        "  dataset = 'cornell'\n",
        "  dataset_path = r\"drive/My Drive/cornell_dataset\"\n",
        "  use_rgb = True\n",
        "  use_depth = True\n",
        "  split = 0.9\n",
        "  ds_rotate = 0.0\n",
        "  num_workers = 8\n",
        "  batch_size = 128\n",
        "  epochs = 25\n",
        "  batches_per_epoch = 100\n",
        "  val_batches = 1\n",
        "  description = ''\n",
        "  # outdir ='output/models/'\n",
        "  # logdir = 'tensorboard/'\n",
        "  vis = 0\n",
        "\n",
        "def parse_args():\n",
        "    parser = argparse.ArgumentParser(description='Train GG-CNN')\n",
        "\n",
        "    # Network\n",
        "    parser.add_argument('--network', type=str, default='ggcnn', help='Network Name in .models')\n",
        "\n",
        "    # Dataset & Data & Training\n",
        "    parser.add_argument('--dataset', type=str, help='Dataset Name (\"cornell\" or \"jaquard\")')\n",
        "    parser.add_argument('--dataset-path', type=str, help='Path to dataset')\n",
        "    parser.add_argument('--use-depth', type=int, default=1, help='Use Depth image for training (1/0)')\n",
        "    parser.add_argument('--use-rgb', type=int, default=0, help='Use RGB image for training (0/1)')\n",
        "    parser.add_argument('--split', type=float, default=0.9, help='Fraction of data for training (remainder is validation)')\n",
        "    parser.add_argument('--ds-rotate', type=float, default=0.0,\n",
        "                        help='Shift the start point of the dataset to use a different test/train split for cross validation.')\n",
        "    parser.add_argument('--num-workers', type=int, default=16, help='Dataset workers')\n",
        "\n",
        "    parser.add_argument('--batch-size', type=int, default=8, help='Batch size')\n",
        "    parser.add_argument('--epochs', type=int, default=40, help='Training epochs')\n",
        "    parser.add_argument('--batches-per-epoch', type=int, default=100, help='Batches per Epoch')\n",
        "    parser.add_argument('--val-batches', type=int, default=10, help='Validation Batches')\n",
        "\n",
        "    # Logging etc.\n",
        "    parser.add_argument('--description', type=str, default='', help='Training description')\n",
        "    parser.add_argument('--outdir', type=str, default='output/models/', help='Training Output Directory')\n",
        "    parser.add_argument('--logdir', type=str, default='tensorboard/', help='Log directory')\n",
        "    parser.add_argument('--vis', action='store_true', help='Visualise the training process')\n",
        "\n",
        "    args = parser.parse_args()\n",
        "    return args\n",
        "\n",
        "\n",
        "def validate(net, device, val_data, batches_per_epoch, epoch):\n",
        "    \"\"\"\n",
        "    Run validation.\n",
        "    :param net: Network\n",
        "    :param device: Torch device\n",
        "    :param val_data: Validation Dataset\n",
        "    :param batches_per_epoch: Number of batches to run\n",
        "    :return: Successes, Failures and Losses\n",
        "    \"\"\"\n",
        "    net.eval()\n",
        "\n",
        "    results = {\n",
        "        'correct': 0,\n",
        "        'failed': 0,\n",
        "        'loss': 0,\n",
        "        'losses': {\n",
        "\n",
        "        }\n",
        "    }\n",
        "\n",
        "    ld = len(val_data)\n",
        "    with torch.no_grad():\n",
        "        batch_idx = 0\n",
        "        while batch_idx < batches_per_epoch:\n",
        "            for x, y, didx, rot, zoom_factor in val_data:\n",
        "                batch_idx += 1\n",
        "                # print('y', torch.Tensor.cpu(y).detach().numpy())\n",
        "                # print('val didx:', didx, 'val batch_idx', batch_idx)\n",
        "                if batches_per_epoch is not None and batch_idx >= batches_per_epoch:\n",
        "                    break\n",
        "\n",
        "                xc = x.to(device)\n",
        "\n",
        "                yc = y.to(device)\n",
        "                pred = net(xc)\n",
        "                loss = F.mse_loss(pred, yc)\n",
        "                print(loss)\n",
        "                results['loss'] += loss.item() / ld\n",
        "\n",
        "                s = evaluation.calculate_iou_match_hamed(pred, val_data.dataset.get_gtbb(didx, rot, zoom_factor, normalise=False))\n",
        "\n",
        "                if s:\n",
        "                    results['correct'] += 1\n",
        "                else:\n",
        "                    results['failed'] += 1\n",
        "\n",
        "                if batch_idx % 100 == 0:\n",
        "                #     logging.info('Batch: {}, Loss: {:0.4f}'.format(batch_idx, F.mse_loss(pred, yc)))\n",
        "                #     val_losses.append(F.mse_loss(pred, yc).item())\n",
        "                    show_image(xc, yc, pred, val_data, didx, rot, zoom_factor, epoch, batch_idx, time, 'validation',  True)\n",
        "                # print('pred', pred)\n",
        "                #printing Loss_validation\n",
        "                # print('vallos:', F.mse_loss(pred, yc))\n",
        "    return results\n",
        "\n",
        "\n",
        "def train(epoch, net, device, train_data, optimizer, batches_per_epoch, losses, time, vis=False):\n",
        "    \"\"\"\n",
        "    Run one training epoch\n",
        "    :param epoch: Current epoch\n",
        "    :param net: Network\n",
        "    :param device: Torch device\n",
        "    :param train_data: Training Dataset\n",
        "    :param optimizer: Optimizer\n",
        "    :param batches_per_epoch:  Data batches to train on\n",
        "    :param vis:  Visualise training progress\n",
        "    :return:  Average Losses for Epoch\n",
        "    \"\"\"\n",
        "    results = {\n",
        "        'loss': 0,\n",
        "        'losses': {\n",
        "        }\n",
        "    }\n",
        "    net.train()\n",
        "\n",
        "    batch_idx = 0\n",
        "    # Use batches per epoch to make training on different sized datasets (cornell/jacquard) more equivalent.\n",
        "    while batch_idx < batches_per_epoch:\n",
        "        for x, y, idx, rot, zoom_factor in train_data:\n",
        "            batch_idx += 1\n",
        "            if batch_idx >= batches_per_epoch:\n",
        "                break\n",
        "\n",
        "            xc = x.to(device)\n",
        "\n",
        "            pred = net(xc)\n",
        "            yc = y.to(device)\n",
        "\n",
        "            # criteration = nn.NLLLoss()\n",
        "            loss = F.mse_loss(pred, yc)\n",
        "            if batch_idx % 10 == 0:\n",
        "                logging.info('Epoch: {}, Batch: {}, Loss: {:0.4f}'.format(epoch, batch_idx, loss.item()))\n",
        "                # show_image(xc, y, pred, train_data,idx, rot, zoom_factor,epoch, batch_idx, time, 'train', save=True)\n",
        "                losses.append(loss.item())\n",
        "\n",
        "            optimizer.zero_grad()\n",
        "            loss.backward()\n",
        "            optimizer.step()\n",
        "\n",
        "    results['loss'] /= batch_idx\n",
        "    for l in results['losses']:\n",
        "        results['losses'][l] /= batch_idx\n",
        "\n",
        "    return results, losses\n",
        "\n",
        "\n",
        "def run():\n",
        "    # args = parse_args()\n",
        "    args = Args()\n",
        "    # Set-up output directories\n",
        "    dt = datetime.datetime.now().strftime('%y%m%d_%H%M')\n",
        "    net_desc = '{}_{}'.format(dt, '_'.join(args.description.split()))\n",
        "\n",
        "    # save_folder = os.path.join(args.outdir, net_desc)\n",
        "    # if not os.path.exists(save_folder):\n",
        "    #     os.makedirs(save_folder)\n",
        "    # tb = tensorboardX.SummaryWriter(os.path.join(args.logdir, net_desc))\n",
        "\n",
        "    # Load Dataset\n",
        "    print('arg dataset:', args.dataset)\n",
        "    logging.info('Loading {} Dataset...'.format(args.dataset.title()))\n",
        "    Dataset = get_dataset(args.dataset)\n",
        "\n",
        "    train_dataset = Dataset(args.dataset_path, start=0.0, end=args.split, ds_rotate=args.ds_rotate,\n",
        "                            random_rotate=True, random_zoom=True,\n",
        "                            include_depth=args.use_depth, include_rgb=args.use_rgb)\n",
        "\n",
        "\n",
        "    train_data = torch.utils.data.DataLoader(\n",
        "        train_dataset,\n",
        "        batch_size=args.batch_size,\n",
        "        shuffle=True,\n",
        "        num_workers=args.num_workers\n",
        "    )\n",
        "    val_dataset = Dataset(args.dataset_path, start=args.split, end=1.0, ds_rotate=args.ds_rotate,\n",
        "                          random_rotate=True, random_zoom=True,\n",
        "                          include_depth=args.use_depth, include_rgb=args.use_rgb)\n",
        "    val_data = torch.utils.data.DataLoader(\n",
        "        val_dataset,\n",
        "        batch_size=args.val_batches,\n",
        "        shuffle=True,\n",
        "        num_workers=args.num_workers\n",
        "    )\n",
        "\n",
        "    logging.info('Done')\n",
        "\n",
        "    # Load the network\n",
        "    logging.info('Loading Network...')\n",
        "    input_channels = 1 * args.use_depth + 3 * args.use_rgb\n",
        "\n",
        "\n",
        "    # ggcnn = get_network('alexnet')\n",
        "    # net = ggcnn(input_channels = input_channels)\n",
        "    device = torch.device('cuda:0' if torch.cuda.is_available() else 'cpu')\n",
        "    print(device)\n",
        "    if not os.path.exists('saved/model'):\n",
        "        # n_inputs = 1000\n",
        "        from torchvision import models\n",
        "        net = models.alexnet(pretrained=True)\n",
        "\n",
        "        # Freeze model weights\n",
        "        for param in net.parameters():\n",
        "            param.requires_grad = False\n",
        "        # Add on classifier\n",
        "        # print('++++++++++\\n',net, '++++++++++++++++\\n')\n",
        "        net.classifier = nn.Sequential(\n",
        "            nn.Linear(9216, 512),\n",
        "            nn.Tanh(),\n",
        "            nn.Dropout(0.5),\n",
        "            nn.Linear(512, 512),\n",
        "            nn.Tanh(),\n",
        "            nn.Dropout(0.5),\n",
        "            nn.Linear(512, 6),\n",
        "            nn.Tanh()\n",
        "            )\n",
        "        # print(net)\n",
        "        # net.classifier[6].requires_grad = True\n",
        "    else:\n",
        "        print('Loading Model')\n",
        "        net = torch.load('saved/model')\n",
        "    net = net.to(device)\n",
        "    # optimizer = optim.Adam(net.parameters(), lr=0.05)\n",
        "    optimizer = optim.Adam(net.parameters(), lr=0.0005)\n",
        "    # optimizer = optim.Adam()\n",
        "    logging.info('Done')\n",
        "\n",
        "    # Print model architecture.\n",
        "    # summary(net, (input_channels, 640, 480))\n",
        "    # f = open(os.path.join(save_folder, 'arch.txt'), 'w')\n",
        "    # sys.stdout = f\n",
        "    # summary(net, (input_channels, 640, 480))\n",
        "    # sys.stdout = sys.__stdout__\n",
        "    # f.close()\n",
        "\n",
        "    best_iou = 0.0\n",
        "    train_losses = []\n",
        "    val_losses = []\n",
        "    for epoch in range(args.epochs):\n",
        "        logging.info('Beginning Epoch {:02d}'.format(epoch))\n",
        "        train_results, train_losses = train(epoch, net, device, train_data, optimizer, args.batches_per_epoch, train_losses, time,  vis=args.vis)\n",
        "\n",
        "        # Run Validation\n",
        "        logging.info('Validating...')\n",
        "        test_results = validate(net, device, val_data, 1000, epoch)\n",
        "        logging.info('Loss: {:0.4f}'.format(np.mean(test_results['loss'])))\n",
        "        val_losses += np.mean(test_results['loss'])\n",
        "        logging.info('%d/%d = %f' % (test_results['correct'], test_results['correct'] + test_results['failed'],\n",
        "                                     test_results['correct']/(test_results['correct'] + test_results['failed'])))\n",
        "\n",
        "\n",
        "        # Save best performing network\n",
        "        iou = test_results['correct'] / (test_results['correct'] + test_results['failed'])\n",
        "        # if iou > best_iou or epoch == 0 or (epoch % 10) == 0:\n",
        "        torch.save(net, os.path.join(save_folder, 'model'))\n",
        "        # best_iou = iou\n",
        "        fig = plt.figure()\n",
        "        ax = fig.add_subplot(211)\n",
        "        ax.title.set_text('train_loss')\n",
        "        ax.plot(train_losses)\n",
        "        ax = fig.add_subplot(212)\n",
        "        ax.plot(val_losses)\n",
        "        ax.title.set_text('val_loss')\n",
        "        plt.savefig('total_Losses')\n",
        "        plt.close(fig)\n",
        "if __name__ == '__main__':\n",
        "    run()"
      ],
      "execution_count": 3,
      "outputs": [
        {
          "output_type": "stream",
          "text": [
            "INFO:root:Loading Cornell Dataset...\n"
          ],
          "name": "stderr"
        },
        {
          "output_type": "stream",
          "text": [
            "arg dataset: cornell\n",
            "this is file path: drive/My Drive/cornell_dataset\n",
            ".... ['drive/My Drive/cornell_dataset/02/pcd0200cpos.txt', 'drive/My Drive/cornell_dataset/02/pcd0201cpos.txt', 'drive/My Drive/cornell_dataset/02/pcd0202cpos.txt', 'drive/My Drive/cornell_dataset/02/pcd0203cpos.txt', 'drive/My Drive/cornell_dataset/02/pcd0204cpos.txt', 'drive/My Drive/cornell_dataset/02/pcd0205cpos.txt', 'drive/My Drive/cornell_dataset/02/pcd0206cpos.txt', 'drive/My Drive/cornell_dataset/02/pcd0207cpos.txt', 'drive/My Drive/cornell_dataset/02/pcd0208cpos.txt', 'drive/My Drive/cornell_dataset/02/pcd0209cpos.txt', 'drive/My Drive/cornell_dataset/02/pcd0210cpos.txt', 'drive/My Drive/cornell_dataset/02/pcd0211cpos.txt', 'drive/My Drive/cornell_dataset/02/pcd0212cpos.txt', 'drive/My Drive/cornell_dataset/02/pcd0213cpos.txt', 'drive/My Drive/cornell_dataset/02/pcd0214cpos.txt', 'drive/My Drive/cornell_dataset/02/pcd0215cpos.txt', 'drive/My Drive/cornell_dataset/02/pcd0216cpos.txt', 'drive/My Drive/cornell_dataset/02/pcd0217cpos.txt', 'drive/My Drive/cornell_dataset/02/pcd0218cpos.txt', 'drive/My Drive/cornell_dataset/02/pcd0219cpos.txt', 'drive/My Drive/cornell_dataset/02/pcd0220cpos.txt', 'drive/My Drive/cornell_dataset/02/pcd0221cpos.txt', 'drive/My Drive/cornell_dataset/02/pcd0222cpos.txt', 'drive/My Drive/cornell_dataset/02/pcd0223cpos.txt', 'drive/My Drive/cornell_dataset/02/pcd0224cpos.txt', 'drive/My Drive/cornell_dataset/02/pcd0225cpos.txt', 'drive/My Drive/cornell_dataset/02/pcd0226cpos.txt', 'drive/My Drive/cornell_dataset/02/pcd0227cpos.txt', 'drive/My Drive/cornell_dataset/02/pcd0228cpos.txt', 'drive/My Drive/cornell_dataset/02/pcd0229cpos.txt', 'drive/My Drive/cornell_dataset/02/pcd0230cpos.txt', 'drive/My Drive/cornell_dataset/02/pcd0231cpos.txt', 'drive/My Drive/cornell_dataset/02/pcd0232cpos.txt', 'drive/My Drive/cornell_dataset/02/pcd0233cpos.txt', 'drive/My Drive/cornell_dataset/02/pcd0234cpos.txt', 'drive/My Drive/cornell_dataset/02/pcd0235cpos.txt', 'drive/My Drive/cornell_dataset/02/pcd0236cpos.txt', 'drive/My Drive/cornell_dataset/02/pcd0237cpos.txt', 'drive/My Drive/cornell_dataset/02/pcd0238cpos.txt', 'drive/My Drive/cornell_dataset/02/pcd0239cpos.txt', 'drive/My Drive/cornell_dataset/02/pcd0240cpos.txt', 'drive/My Drive/cornell_dataset/02/pcd0241cpos.txt', 'drive/My Drive/cornell_dataset/02/pcd0242cpos.txt', 'drive/My Drive/cornell_dataset/02/pcd0243cpos.txt', 'drive/My Drive/cornell_dataset/02/pcd0244cpos.txt', 'drive/My Drive/cornell_dataset/02/pcd0245cpos.txt', 'drive/My Drive/cornell_dataset/02/pcd0246cpos.txt', 'drive/My Drive/cornell_dataset/02/pcd0247cpos.txt', 'drive/My Drive/cornell_dataset/02/pcd0248cpos.txt', 'drive/My Drive/cornell_dataset/02/pcd0249cpos.txt', 'drive/My Drive/cornell_dataset/02/pcd0250cpos.txt', 'drive/My Drive/cornell_dataset/02/pcd0251cpos.txt', 'drive/My Drive/cornell_dataset/02/pcd0252cpos.txt', 'drive/My Drive/cornell_dataset/02/pcd0253cpos.txt', 'drive/My Drive/cornell_dataset/02/pcd0254cpos.txt', 'drive/My Drive/cornell_dataset/02/pcd0255cpos.txt', 'drive/My Drive/cornell_dataset/02/pcd0256cpos.txt', 'drive/My Drive/cornell_dataset/02/pcd0257cpos.txt', 'drive/My Drive/cornell_dataset/02/pcd0258cpos.txt', 'drive/My Drive/cornell_dataset/02/pcd0259cpos.txt', 'drive/My Drive/cornell_dataset/02/pcd0260cpos.txt', 'drive/My Drive/cornell_dataset/02/pcd0261cpos.txt', 'drive/My Drive/cornell_dataset/02/pcd0262cpos.txt', 'drive/My Drive/cornell_dataset/02/pcd0263cpos.txt', 'drive/My Drive/cornell_dataset/02/pcd0264cpos.txt', 'drive/My Drive/cornell_dataset/02/pcd0265cpos.txt', 'drive/My Drive/cornell_dataset/02/pcd0266cpos.txt', 'drive/My Drive/cornell_dataset/02/pcd0267cpos.txt', 'drive/My Drive/cornell_dataset/02/pcd0268cpos.txt', 'drive/My Drive/cornell_dataset/02/pcd0269cpos.txt', 'drive/My Drive/cornell_dataset/02/pcd0270cpos.txt', 'drive/My Drive/cornell_dataset/02/pcd0271cpos.txt', 'drive/My Drive/cornell_dataset/02/pcd0272cpos.txt', 'drive/My Drive/cornell_dataset/02/pcd0273cpos.txt', 'drive/My Drive/cornell_dataset/02/pcd0274cpos.txt', 'drive/My Drive/cornell_dataset/02/pcd0275cpos.txt', 'drive/My Drive/cornell_dataset/02/pcd0276cpos.txt', 'drive/My Drive/cornell_dataset/02/pcd0277cpos.txt', 'drive/My Drive/cornell_dataset/02/pcd0278cpos.txt', 'drive/My Drive/cornell_dataset/02/pcd0279cpos.txt', 'drive/My Drive/cornell_dataset/02/pcd0280cpos.txt', 'drive/My Drive/cornell_dataset/02/pcd0281cpos.txt', 'drive/My Drive/cornell_dataset/02/pcd0282cpos.txt', 'drive/My Drive/cornell_dataset/02/pcd0283cpos.txt', 'drive/My Drive/cornell_dataset/02/pcd0284cpos.txt', 'drive/My Drive/cornell_dataset/02/pcd0285cpos.txt', 'drive/My Drive/cornell_dataset/02/pcd0286cpos.txt', 'drive/My Drive/cornell_dataset/02/pcd0287cpos.txt', 'drive/My Drive/cornell_dataset/02/pcd0288cpos.txt', 'drive/My Drive/cornell_dataset/02/pcd0289cpos.txt', 'drive/My Drive/cornell_dataset/02/pcd0290cpos.txt', 'drive/My Drive/cornell_dataset/02/pcd0291cpos.txt', 'drive/My Drive/cornell_dataset/02/pcd0292cpos.txt', 'drive/My Drive/cornell_dataset/02/pcd0293cpos.txt', 'drive/My Drive/cornell_dataset/02/pcd0294cpos.txt', 'drive/My Drive/cornell_dataset/02/pcd0295cpos.txt', 'drive/My Drive/cornell_dataset/02/pcd0296cpos.txt', 'drive/My Drive/cornell_dataset/02/pcd0297cpos.txt', 'drive/My Drive/cornell_dataset/02/pcd0298cpos.txt', 'drive/My Drive/cornell_dataset/02/pcd0299cpos.txt', 'drive/My Drive/cornell_dataset/03/pcd0300cpos.txt', 'drive/My Drive/cornell_dataset/03/pcd0301cpos.txt', 'drive/My Drive/cornell_dataset/03/pcd0302cpos.txt', 'drive/My Drive/cornell_dataset/03/pcd0303cpos.txt', 'drive/My Drive/cornell_dataset/03/pcd0304cpos.txt', 'drive/My Drive/cornell_dataset/03/pcd0305cpos.txt', 'drive/My Drive/cornell_dataset/03/pcd0306cpos.txt', 'drive/My Drive/cornell_dataset/03/pcd0307cpos.txt', 'drive/My Drive/cornell_dataset/03/pcd0308cpos.txt', 'drive/My Drive/cornell_dataset/03/pcd0309cpos.txt', 'drive/My Drive/cornell_dataset/03/pcd0310cpos.txt', 'drive/My Drive/cornell_dataset/03/pcd0311cpos.txt', 'drive/My Drive/cornell_dataset/03/pcd0312cpos.txt', 'drive/My Drive/cornell_dataset/03/pcd0313cpos.txt', 'drive/My Drive/cornell_dataset/03/pcd0314cpos.txt', 'drive/My Drive/cornell_dataset/03/pcd0315cpos.txt', 'drive/My Drive/cornell_dataset/03/pcd0316cpos.txt', 'drive/My Drive/cornell_dataset/03/pcd0317cpos.txt', 'drive/My Drive/cornell_dataset/03/pcd0318cpos.txt', 'drive/My Drive/cornell_dataset/03/pcd0319cpos.txt', 'drive/My Drive/cornell_dataset/03/pcd0320cpos.txt', 'drive/My Drive/cornell_dataset/03/pcd0321cpos.txt', 'drive/My Drive/cornell_dataset/03/pcd0322cpos.txt', 'drive/My Drive/cornell_dataset/03/pcd0323cpos.txt', 'drive/My Drive/cornell_dataset/03/pcd0324cpos.txt', 'drive/My Drive/cornell_dataset/03/pcd0325cpos.txt', 'drive/My Drive/cornell_dataset/03/pcd0326cpos.txt', 'drive/My Drive/cornell_dataset/03/pcd0327cpos.txt', 'drive/My Drive/cornell_dataset/03/pcd0328cpos.txt', 'drive/My Drive/cornell_dataset/03/pcd0329cpos.txt', 'drive/My Drive/cornell_dataset/03/pcd0330cpos.txt', 'drive/My Drive/cornell_dataset/03/pcd0331cpos.txt', 'drive/My Drive/cornell_dataset/03/pcd0332cpos.txt', 'drive/My Drive/cornell_dataset/03/pcd0333cpos.txt', 'drive/My Drive/cornell_dataset/03/pcd0334cpos.txt', 'drive/My Drive/cornell_dataset/03/pcd0335cpos.txt', 'drive/My Drive/cornell_dataset/03/pcd0336cpos.txt', 'drive/My Drive/cornell_dataset/03/pcd0337cpos.txt', 'drive/My Drive/cornell_dataset/03/pcd0338cpos.txt', 'drive/My Drive/cornell_dataset/03/pcd0339cpos.txt', 'drive/My Drive/cornell_dataset/03/pcd0340cpos.txt', 'drive/My Drive/cornell_dataset/03/pcd0341cpos.txt', 'drive/My Drive/cornell_dataset/03/pcd0342cpos.txt', 'drive/My Drive/cornell_dataset/03/pcd0343cpos.txt', 'drive/My Drive/cornell_dataset/03/pcd0344cpos.txt', 'drive/My Drive/cornell_dataset/03/pcd0345cpos.txt', 'drive/My Drive/cornell_dataset/03/pcd0346cpos.txt', 'drive/My Drive/cornell_dataset/03/pcd0347cpos.txt', 'drive/My Drive/cornell_dataset/03/pcd0348cpos.txt', 'drive/My Drive/cornell_dataset/03/pcd0349cpos.txt', 'drive/My Drive/cornell_dataset/03/pcd0350cpos.txt', 'drive/My Drive/cornell_dataset/03/pcd0351cpos.txt', 'drive/My Drive/cornell_dataset/03/pcd0352cpos.txt', 'drive/My Drive/cornell_dataset/03/pcd0353cpos.txt', 'drive/My Drive/cornell_dataset/03/pcd0354cpos.txt', 'drive/My Drive/cornell_dataset/03/pcd0355cpos.txt', 'drive/My Drive/cornell_dataset/03/pcd0356cpos.txt', 'drive/My Drive/cornell_dataset/03/pcd0357cpos.txt', 'drive/My Drive/cornell_dataset/03/pcd0358cpos.txt', 'drive/My Drive/cornell_dataset/03/pcd0359cpos.txt', 'drive/My Drive/cornell_dataset/03/pcd0360cpos.txt', 'drive/My Drive/cornell_dataset/03/pcd0361cpos.txt', 'drive/My Drive/cornell_dataset/03/pcd0362cpos.txt', 'drive/My Drive/cornell_dataset/03/pcd0363cpos.txt', 'drive/My Drive/cornell_dataset/03/pcd0364cpos.txt', 'drive/My Drive/cornell_dataset/03/pcd0365cpos.txt', 'drive/My Drive/cornell_dataset/03/pcd0366cpos.txt', 'drive/My Drive/cornell_dataset/03/pcd0367cpos.txt', 'drive/My Drive/cornell_dataset/03/pcd0368cpos.txt', 'drive/My Drive/cornell_dataset/03/pcd0369cpos.txt', 'drive/My Drive/cornell_dataset/03/pcd0370cpos.txt', 'drive/My Drive/cornell_dataset/03/pcd0371cpos.txt', 'drive/My Drive/cornell_dataset/03/pcd0372cpos.txt', 'drive/My Drive/cornell_dataset/03/pcd0373cpos.txt', 'drive/My Drive/cornell_dataset/03/pcd0374cpos.txt', 'drive/My Drive/cornell_dataset/03/pcd0375cpos.txt', 'drive/My Drive/cornell_dataset/03/pcd0376cpos.txt', 'drive/My Drive/cornell_dataset/03/pcd0377cpos.txt', 'drive/My Drive/cornell_dataset/03/pcd0378cpos.txt', 'drive/My Drive/cornell_dataset/03/pcd0379cpos.txt', 'drive/My Drive/cornell_dataset/03/pcd0380cpos.txt', 'drive/My Drive/cornell_dataset/03/pcd0381cpos.txt', 'drive/My Drive/cornell_dataset/03/pcd0382cpos.txt', 'drive/My Drive/cornell_dataset/03/pcd0383cpos.txt', 'drive/My Drive/cornell_dataset/03/pcd0384cpos.txt', 'drive/My Drive/cornell_dataset/03/pcd0385cpos.txt', 'drive/My Drive/cornell_dataset/03/pcd0386cpos.txt', 'drive/My Drive/cornell_dataset/03/pcd0387cpos.txt', 'drive/My Drive/cornell_dataset/03/pcd0388cpos.txt', 'drive/My Drive/cornell_dataset/03/pcd0389cpos.txt', 'drive/My Drive/cornell_dataset/03/pcd0390cpos.txt', 'drive/My Drive/cornell_dataset/03/pcd0391cpos.txt', 'drive/My Drive/cornell_dataset/03/pcd0392cpos.txt', 'drive/My Drive/cornell_dataset/03/pcd0393cpos.txt', 'drive/My Drive/cornell_dataset/03/pcd0394cpos.txt', 'drive/My Drive/cornell_dataset/03/pcd0395cpos.txt', 'drive/My Drive/cornell_dataset/03/pcd0396cpos.txt', 'drive/My Drive/cornell_dataset/03/pcd0397cpos.txt', 'drive/My Drive/cornell_dataset/03/pcd0398cpos.txt', 'drive/My Drive/cornell_dataset/03/pcd0399cpos.txt', 'drive/My Drive/cornell_dataset/04/pcd0400cpos.txt', 'drive/My Drive/cornell_dataset/04/pcd0401cpos.txt', 'drive/My Drive/cornell_dataset/04/pcd0402cpos.txt', 'drive/My Drive/cornell_dataset/04/pcd0403cpos.txt', 'drive/My Drive/cornell_dataset/04/pcd0404cpos.txt', 'drive/My Drive/cornell_dataset/04/pcd0405cpos.txt', 'drive/My Drive/cornell_dataset/04/pcd0406cpos.txt', 'drive/My Drive/cornell_dataset/04/pcd0407cpos.txt', 'drive/My Drive/cornell_dataset/04/pcd0408cpos.txt', 'drive/My Drive/cornell_dataset/04/pcd0409cpos.txt', 'drive/My Drive/cornell_dataset/04/pcd0410cpos.txt', 'drive/My Drive/cornell_dataset/04/pcd0411cpos.txt', 'drive/My Drive/cornell_dataset/04/pcd0412cpos.txt', 'drive/My Drive/cornell_dataset/04/pcd0413cpos.txt', 'drive/My Drive/cornell_dataset/04/pcd0414cpos.txt', 'drive/My Drive/cornell_dataset/04/pcd0415cpos.txt', 'drive/My Drive/cornell_dataset/04/pcd0416cpos.txt', 'drive/My Drive/cornell_dataset/04/pcd0417cpos.txt', 'drive/My Drive/cornell_dataset/04/pcd0418cpos.txt', 'drive/My Drive/cornell_dataset/04/pcd0419cpos.txt', 'drive/My Drive/cornell_dataset/04/pcd0420cpos.txt', 'drive/My Drive/cornell_dataset/04/pcd0421cpos.txt', 'drive/My Drive/cornell_dataset/04/pcd0422cpos.txt', 'drive/My Drive/cornell_dataset/04/pcd0423cpos.txt', 'drive/My Drive/cornell_dataset/04/pcd0424cpos.txt', 'drive/My Drive/cornell_dataset/04/pcd0425cpos.txt', 'drive/My Drive/cornell_dataset/04/pcd0426cpos.txt', 'drive/My Drive/cornell_dataset/04/pcd0427cpos.txt', 'drive/My Drive/cornell_dataset/04/pcd0428cpos.txt', 'drive/My Drive/cornell_dataset/04/pcd0429cpos.txt', 'drive/My Drive/cornell_dataset/04/pcd0430cpos.txt', 'drive/My Drive/cornell_dataset/04/pcd0431cpos.txt', 'drive/My Drive/cornell_dataset/04/pcd0432cpos.txt', 'drive/My Drive/cornell_dataset/04/pcd0433cpos.txt', 'drive/My Drive/cornell_dataset/04/pcd0434cpos.txt', 'drive/My Drive/cornell_dataset/04/pcd0435cpos.txt', 'drive/My Drive/cornell_dataset/04/pcd0436cpos.txt', 'drive/My Drive/cornell_dataset/04/pcd0437cpos.txt', 'drive/My Drive/cornell_dataset/04/pcd0438cpos.txt', 'drive/My Drive/cornell_dataset/04/pcd0439cpos.txt', 'drive/My Drive/cornell_dataset/04/pcd0440cpos.txt', 'drive/My Drive/cornell_dataset/04/pcd0441cpos.txt', 'drive/My Drive/cornell_dataset/04/pcd0442cpos.txt', 'drive/My Drive/cornell_dataset/04/pcd0443cpos.txt', 'drive/My Drive/cornell_dataset/04/pcd0444cpos.txt', 'drive/My Drive/cornell_dataset/04/pcd0445cpos.txt', 'drive/My Drive/cornell_dataset/04/pcd0446cpos.txt', 'drive/My Drive/cornell_dataset/04/pcd0447cpos.txt', 'drive/My Drive/cornell_dataset/04/pcd0448cpos.txt', 'drive/My Drive/cornell_dataset/04/pcd0449cpos.txt', 'drive/My Drive/cornell_dataset/04/pcd0450cpos.txt', 'drive/My Drive/cornell_dataset/04/pcd0451cpos.txt', 'drive/My Drive/cornell_dataset/04/pcd0452cpos.txt', 'drive/My Drive/cornell_dataset/04/pcd0453cpos.txt', 'drive/My Drive/cornell_dataset/04/pcd0454cpos.txt', 'drive/My Drive/cornell_dataset/04/pcd0455cpos.txt', 'drive/My Drive/cornell_dataset/04/pcd0456cpos.txt', 'drive/My Drive/cornell_dataset/04/pcd0457cpos.txt', 'drive/My Drive/cornell_dataset/04/pcd0458cpos.txt', 'drive/My Drive/cornell_dataset/04/pcd0459cpos.txt', 'drive/My Drive/cornell_dataset/04/pcd0460cpos.txt', 'drive/My Drive/cornell_dataset/04/pcd0461cpos.txt', 'drive/My Drive/cornell_dataset/04/pcd0462cpos.txt', 'drive/My Drive/cornell_dataset/04/pcd0463cpos.txt', 'drive/My Drive/cornell_dataset/04/pcd0464cpos.txt', 'drive/My Drive/cornell_dataset/04/pcd0465cpos.txt', 'drive/My Drive/cornell_dataset/04/pcd0466cpos.txt', 'drive/My Drive/cornell_dataset/04/pcd0467cpos.txt', 'drive/My Drive/cornell_dataset/04/pcd0468cpos.txt', 'drive/My Drive/cornell_dataset/04/pcd0469cpos.txt', 'drive/My Drive/cornell_dataset/04/pcd0470cpos.txt', 'drive/My Drive/cornell_dataset/04/pcd0471cpos.txt', 'drive/My Drive/cornell_dataset/04/pcd0472cpos.txt', 'drive/My Drive/cornell_dataset/04/pcd0473cpos.txt', 'drive/My Drive/cornell_dataset/04/pcd0474cpos.txt', 'drive/My Drive/cornell_dataset/04/pcd0475cpos.txt', 'drive/My Drive/cornell_dataset/04/pcd0476cpos.txt', 'drive/My Drive/cornell_dataset/04/pcd0477cpos.txt', 'drive/My Drive/cornell_dataset/04/pcd0478cpos.txt', 'drive/My Drive/cornell_dataset/04/pcd0479cpos.txt', 'drive/My Drive/cornell_dataset/04/pcd0480cpos.txt', 'drive/My Drive/cornell_dataset/04/pcd0481cpos.txt', 'drive/My Drive/cornell_dataset/04/pcd0482cpos.txt', 'drive/My Drive/cornell_dataset/04/pcd0483cpos.txt', 'drive/My Drive/cornell_dataset/04/pcd0484cpos.txt', 'drive/My Drive/cornell_dataset/04/pcd0485cpos.txt', 'drive/My Drive/cornell_dataset/04/pcd0486cpos.txt', 'drive/My Drive/cornell_dataset/04/pcd0487cpos.txt', 'drive/My Drive/cornell_dataset/04/pcd0488cpos.txt', 'drive/My Drive/cornell_dataset/04/pcd0489cpos.txt', 'drive/My Drive/cornell_dataset/04/pcd0490cpos.txt', 'drive/My Drive/cornell_dataset/04/pcd0491cpos.txt', 'drive/My Drive/cornell_dataset/04/pcd0492cpos.txt', 'drive/My Drive/cornell_dataset/04/pcd0493cpos.txt', 'drive/My Drive/cornell_dataset/04/pcd0494cpos.txt', 'drive/My Drive/cornell_dataset/04/pcd0495cpos.txt', 'drive/My Drive/cornell_dataset/04/pcd0496cpos.txt', 'drive/My Drive/cornell_dataset/04/pcd0497cpos.txt', 'drive/My Drive/cornell_dataset/04/pcd0498cpos.txt', 'drive/My Drive/cornell_dataset/04/pcd0499cpos.txt', 'drive/My Drive/cornell_dataset/05/pcd0500cpos.txt', 'drive/My Drive/cornell_dataset/05/pcd0501cpos.txt', 'drive/My Drive/cornell_dataset/05/pcd0502cpos.txt', 'drive/My Drive/cornell_dataset/05/pcd0503cpos.txt', 'drive/My Drive/cornell_dataset/05/pcd0504cpos.txt', 'drive/My Drive/cornell_dataset/05/pcd0505cpos.txt', 'drive/My Drive/cornell_dataset/05/pcd0506cpos.txt', 'drive/My Drive/cornell_dataset/05/pcd0507cpos.txt', 'drive/My Drive/cornell_dataset/05/pcd0508cpos.txt', 'drive/My Drive/cornell_dataset/05/pcd0509cpos.txt', 'drive/My Drive/cornell_dataset/05/pcd0510cpos.txt', 'drive/My Drive/cornell_dataset/05/pcd0511cpos.txt', 'drive/My Drive/cornell_dataset/05/pcd0512cpos.txt', 'drive/My Drive/cornell_dataset/05/pcd0513cpos.txt', 'drive/My Drive/cornell_dataset/05/pcd0514cpos.txt', 'drive/My Drive/cornell_dataset/05/pcd0515cpos.txt', 'drive/My Drive/cornell_dataset/05/pcd0516cpos.txt', 'drive/My Drive/cornell_dataset/05/pcd0517cpos.txt', 'drive/My Drive/cornell_dataset/05/pcd0518cpos.txt', 'drive/My Drive/cornell_dataset/05/pcd0519cpos.txt', 'drive/My Drive/cornell_dataset/05/pcd0520cpos.txt', 'drive/My Drive/cornell_dataset/05/pcd0521cpos.txt', 'drive/My Drive/cornell_dataset/05/pcd0522cpos.txt', 'drive/My Drive/cornell_dataset/05/pcd0523cpos.txt', 'drive/My Drive/cornell_dataset/05/pcd0524cpos.txt', 'drive/My Drive/cornell_dataset/05/pcd0525cpos.txt', 'drive/My Drive/cornell_dataset/05/pcd0526cpos.txt', 'drive/My Drive/cornell_dataset/05/pcd0527cpos.txt', 'drive/My Drive/cornell_dataset/05/pcd0528cpos.txt', 'drive/My Drive/cornell_dataset/05/pcd0529cpos.txt', 'drive/My Drive/cornell_dataset/05/pcd0530cpos.txt', 'drive/My Drive/cornell_dataset/05/pcd0531cpos.txt', 'drive/My Drive/cornell_dataset/05/pcd0532cpos.txt', 'drive/My Drive/cornell_dataset/05/pcd0533cpos.txt', 'drive/My Drive/cornell_dataset/05/pcd0534cpos.txt', 'drive/My Drive/cornell_dataset/05/pcd0535cpos.txt', 'drive/My Drive/cornell_dataset/05/pcd0536cpos.txt', 'drive/My Drive/cornell_dataset/05/pcd0537cpos.txt', 'drive/My Drive/cornell_dataset/05/pcd0538cpos.txt', 'drive/My Drive/cornell_dataset/05/pcd0539cpos.txt', 'drive/My Drive/cornell_dataset/05/pcd0540cpos.txt', 'drive/My Drive/cornell_dataset/05/pcd0541cpos.txt', 'drive/My Drive/cornell_dataset/05/pcd0542cpos.txt', 'drive/My Drive/cornell_dataset/05/pcd0543cpos.txt', 'drive/My Drive/cornell_dataset/05/pcd0544cpos.txt', 'drive/My Drive/cornell_dataset/05/pcd0545cpos.txt', 'drive/My Drive/cornell_dataset/05/pcd0546cpos.txt', 'drive/My Drive/cornell_dataset/05/pcd0547cpos.txt', 'drive/My Drive/cornell_dataset/05/pcd0548cpos.txt', 'drive/My Drive/cornell_dataset/05/pcd0549cpos.txt', 'drive/My Drive/cornell_dataset/05/pcd0550cpos.txt', 'drive/My Drive/cornell_dataset/05/pcd0551cpos.txt', 'drive/My Drive/cornell_dataset/05/pcd0552cpos.txt', 'drive/My Drive/cornell_dataset/05/pcd0553cpos.txt', 'drive/My Drive/cornell_dataset/05/pcd0554cpos.txt', 'drive/My Drive/cornell_dataset/05/pcd0555cpos.txt', 'drive/My Drive/cornell_dataset/05/pcd0556cpos.txt', 'drive/My Drive/cornell_dataset/05/pcd0557cpos.txt', 'drive/My Drive/cornell_dataset/05/pcd0558cpos.txt', 'drive/My Drive/cornell_dataset/05/pcd0559cpos.txt', 'drive/My Drive/cornell_dataset/05/pcd0560cpos.txt', 'drive/My Drive/cornell_dataset/05/pcd0561cpos.txt', 'drive/My Drive/cornell_dataset/05/pcd0562cpos.txt', 'drive/My Drive/cornell_dataset/05/pcd0563cpos.txt', 'drive/My Drive/cornell_dataset/05/pcd0564cpos.txt', 'drive/My Drive/cornell_dataset/05/pcd0565cpos.txt', 'drive/My Drive/cornell_dataset/05/pcd0566cpos.txt', 'drive/My Drive/cornell_dataset/05/pcd0567cpos.txt', 'drive/My Drive/cornell_dataset/05/pcd0568cpos.txt', 'drive/My Drive/cornell_dataset/05/pcd0569cpos.txt', 'drive/My Drive/cornell_dataset/05/pcd0570cpos.txt', 'drive/My Drive/cornell_dataset/05/pcd0571cpos.txt', 'drive/My Drive/cornell_dataset/05/pcd0572cpos.txt', 'drive/My Drive/cornell_dataset/05/pcd0573cpos.txt', 'drive/My Drive/cornell_dataset/05/pcd0574cpos.txt', 'drive/My Drive/cornell_dataset/05/pcd0575cpos.txt', 'drive/My Drive/cornell_dataset/05/pcd0576cpos.txt', 'drive/My Drive/cornell_dataset/05/pcd0577cpos.txt', 'drive/My Drive/cornell_dataset/05/pcd0578cpos.txt', 'drive/My Drive/cornell_dataset/05/pcd0579cpos.txt', 'drive/My Drive/cornell_dataset/05/pcd0580cpos.txt', 'drive/My Drive/cornell_dataset/05/pcd0581cpos.txt', 'drive/My Drive/cornell_dataset/05/pcd0582cpos.txt', 'drive/My Drive/cornell_dataset/05/pcd0583cpos.txt', 'drive/My Drive/cornell_dataset/05/pcd0584cpos.txt', 'drive/My Drive/cornell_dataset/05/pcd0585cpos.txt', 'drive/My Drive/cornell_dataset/05/pcd0586cpos.txt', 'drive/My Drive/cornell_dataset/05/pcd0587cpos.txt', 'drive/My Drive/cornell_dataset/05/pcd0588cpos.txt', 'drive/My Drive/cornell_dataset/05/pcd0589cpos.txt', 'drive/My Drive/cornell_dataset/05/pcd0590cpos.txt', 'drive/My Drive/cornell_dataset/05/pcd0591cpos.txt', 'drive/My Drive/cornell_dataset/05/pcd0592cpos.txt', 'drive/My Drive/cornell_dataset/05/pcd0593cpos.txt', 'drive/My Drive/cornell_dataset/05/pcd0594cpos.txt', 'drive/My Drive/cornell_dataset/05/pcd0595cpos.txt', 'drive/My Drive/cornell_dataset/05/pcd0596cpos.txt', 'drive/My Drive/cornell_dataset/05/pcd0597cpos.txt', 'drive/My Drive/cornell_dataset/05/pcd0598cpos.txt', 'drive/My Drive/cornell_dataset/05/pcd0599cpos.txt', 'drive/My Drive/cornell_dataset/06/pcd0600cpos.txt', 'drive/My Drive/cornell_dataset/06/pcd0601cpos.txt', 'drive/My Drive/cornell_dataset/06/pcd0602cpos.txt', 'drive/My Drive/cornell_dataset/06/pcd0603cpos.txt', 'drive/My Drive/cornell_dataset/06/pcd0604cpos.txt', 'drive/My Drive/cornell_dataset/06/pcd0605cpos.txt', 'drive/My Drive/cornell_dataset/06/pcd0606cpos.txt', 'drive/My Drive/cornell_dataset/06/pcd0607cpos.txt', 'drive/My Drive/cornell_dataset/06/pcd0608cpos.txt', 'drive/My Drive/cornell_dataset/06/pcd0609cpos.txt', 'drive/My Drive/cornell_dataset/06/pcd0610cpos.txt', 'drive/My Drive/cornell_dataset/06/pcd0611cpos.txt', 'drive/My Drive/cornell_dataset/06/pcd0612cpos.txt', 'drive/My Drive/cornell_dataset/06/pcd0613cpos.txt', 'drive/My Drive/cornell_dataset/06/pcd0614cpos.txt', 'drive/My Drive/cornell_dataset/06/pcd0615cpos.txt', 'drive/My Drive/cornell_dataset/06/pcd0616cpos.txt', 'drive/My Drive/cornell_dataset/06/pcd0617cpos.txt', 'drive/My Drive/cornell_dataset/06/pcd0618cpos.txt', 'drive/My Drive/cornell_dataset/06/pcd0619cpos.txt', 'drive/My Drive/cornell_dataset/06/pcd0620cpos.txt', 'drive/My Drive/cornell_dataset/06/pcd0621cpos.txt', 'drive/My Drive/cornell_dataset/06/pcd0622cpos.txt', 'drive/My Drive/cornell_dataset/06/pcd0623cpos.txt', 'drive/My Drive/cornell_dataset/06/pcd0624cpos.txt', 'drive/My Drive/cornell_dataset/06/pcd0625cpos.txt', 'drive/My Drive/cornell_dataset/06/pcd0626cpos.txt', 'drive/My Drive/cornell_dataset/06/pcd0627cpos.txt', 'drive/My Drive/cornell_dataset/06/pcd0628cpos.txt', 'drive/My Drive/cornell_dataset/06/pcd0629cpos.txt', 'drive/My Drive/cornell_dataset/06/pcd0630cpos.txt', 'drive/My Drive/cornell_dataset/06/pcd0631cpos.txt', 'drive/My Drive/cornell_dataset/06/pcd0632cpos.txt', 'drive/My Drive/cornell_dataset/06/pcd0633cpos.txt', 'drive/My Drive/cornell_dataset/06/pcd0634cpos.txt', 'drive/My Drive/cornell_dataset/06/pcd0635cpos.txt', 'drive/My Drive/cornell_dataset/06/pcd0636cpos.txt', 'drive/My Drive/cornell_dataset/06/pcd0637cpos.txt', 'drive/My Drive/cornell_dataset/06/pcd0638cpos.txt', 'drive/My Drive/cornell_dataset/06/pcd0639cpos.txt', 'drive/My Drive/cornell_dataset/06/pcd0640cpos.txt', 'drive/My Drive/cornell_dataset/06/pcd0641cpos.txt', 'drive/My Drive/cornell_dataset/06/pcd0642cpos.txt', 'drive/My Drive/cornell_dataset/06/pcd0643cpos.txt', 'drive/My Drive/cornell_dataset/06/pcd0644cpos.txt', 'drive/My Drive/cornell_dataset/06/pcd0645cpos.txt', 'drive/My Drive/cornell_dataset/06/pcd0646cpos.txt', 'drive/My Drive/cornell_dataset/06/pcd0647cpos.txt', 'drive/My Drive/cornell_dataset/06/pcd0648cpos.txt', 'drive/My Drive/cornell_dataset/06/pcd0649cpos.txt', 'drive/My Drive/cornell_dataset/06/pcd0650cpos.txt', 'drive/My Drive/cornell_dataset/06/pcd0651cpos.txt', 'drive/My Drive/cornell_dataset/06/pcd0652cpos.txt', 'drive/My Drive/cornell_dataset/06/pcd0653cpos.txt', 'drive/My Drive/cornell_dataset/06/pcd0654cpos.txt', 'drive/My Drive/cornell_dataset/06/pcd0655cpos.txt', 'drive/My Drive/cornell_dataset/06/pcd0656cpos.txt', 'drive/My Drive/cornell_dataset/06/pcd0657cpos.txt', 'drive/My Drive/cornell_dataset/06/pcd0658cpos.txt', 'drive/My Drive/cornell_dataset/06/pcd0659cpos.txt', 'drive/My Drive/cornell_dataset/06/pcd0660cpos.txt', 'drive/My Drive/cornell_dataset/06/pcd0661cpos.txt', 'drive/My Drive/cornell_dataset/06/pcd0662cpos.txt', 'drive/My Drive/cornell_dataset/06/pcd0663cpos.txt', 'drive/My Drive/cornell_dataset/06/pcd0664cpos.txt', 'drive/My Drive/cornell_dataset/06/pcd0665cpos.txt', 'drive/My Drive/cornell_dataset/06/pcd0666cpos.txt', 'drive/My Drive/cornell_dataset/06/pcd0667cpos.txt', 'drive/My Drive/cornell_dataset/06/pcd0668cpos.txt', 'drive/My Drive/cornell_dataset/06/pcd0669cpos.txt', 'drive/My Drive/cornell_dataset/06/pcd0670cpos.txt', 'drive/My Drive/cornell_dataset/06/pcd0671cpos.txt', 'drive/My Drive/cornell_dataset/06/pcd0672cpos.txt', 'drive/My Drive/cornell_dataset/06/pcd0673cpos.txt', 'drive/My Drive/cornell_dataset/06/pcd0674cpos.txt', 'drive/My Drive/cornell_dataset/06/pcd0675cpos.txt', 'drive/My Drive/cornell_dataset/06/pcd0676cpos.txt', 'drive/My Drive/cornell_dataset/06/pcd0677cpos.txt', 'drive/My Drive/cornell_dataset/06/pcd0678cpos.txt', 'drive/My Drive/cornell_dataset/06/pcd0679cpos.txt', 'drive/My Drive/cornell_dataset/06/pcd0680cpos.txt', 'drive/My Drive/cornell_dataset/06/pcd0681cpos.txt', 'drive/My Drive/cornell_dataset/06/pcd0682cpos.txt', 'drive/My Drive/cornell_dataset/06/pcd0683cpos.txt', 'drive/My Drive/cornell_dataset/06/pcd0684cpos.txt', 'drive/My Drive/cornell_dataset/06/pcd0685cpos.txt', 'drive/My Drive/cornell_dataset/06/pcd0686cpos.txt', 'drive/My Drive/cornell_dataset/06/pcd0687cpos.txt', 'drive/My Drive/cornell_dataset/06/pcd0688cpos.txt', 'drive/My Drive/cornell_dataset/06/pcd0689cpos.txt', 'drive/My Drive/cornell_dataset/06/pcd0690cpos.txt', 'drive/My Drive/cornell_dataset/06/pcd0691cpos.txt', 'drive/My Drive/cornell_dataset/06/pcd0692cpos.txt', 'drive/My Drive/cornell_dataset/06/pcd0693cpos.txt', 'drive/My Drive/cornell_dataset/06/pcd0694cpos.txt', 'drive/My Drive/cornell_dataset/06/pcd0695cpos.txt', 'drive/My Drive/cornell_dataset/06/pcd0696cpos.txt', 'drive/My Drive/cornell_dataset/06/pcd0697cpos.txt', 'drive/My Drive/cornell_dataset/06/pcd0698cpos.txt', 'drive/My Drive/cornell_dataset/06/pcd0699cpos.txt', 'drive/My Drive/cornell_dataset/07/pcd0700cpos.txt', 'drive/My Drive/cornell_dataset/07/pcd0701cpos.txt', 'drive/My Drive/cornell_dataset/07/pcd0702cpos.txt', 'drive/My Drive/cornell_dataset/07/pcd0703cpos.txt', 'drive/My Drive/cornell_dataset/07/pcd0704cpos.txt', 'drive/My Drive/cornell_dataset/07/pcd0705cpos.txt', 'drive/My Drive/cornell_dataset/07/pcd0706cpos.txt', 'drive/My Drive/cornell_dataset/07/pcd0707cpos.txt', 'drive/My Drive/cornell_dataset/07/pcd0708cpos.txt', 'drive/My Drive/cornell_dataset/07/pcd0709cpos.txt', 'drive/My Drive/cornell_dataset/07/pcd0710cpos.txt', 'drive/My Drive/cornell_dataset/07/pcd0711cpos.txt', 'drive/My Drive/cornell_dataset/07/pcd0712cpos.txt', 'drive/My Drive/cornell_dataset/07/pcd0713cpos.txt', 'drive/My Drive/cornell_dataset/07/pcd0714cpos.txt', 'drive/My Drive/cornell_dataset/07/pcd0715cpos.txt', 'drive/My Drive/cornell_dataset/07/pcd0716cpos.txt', 'drive/My Drive/cornell_dataset/07/pcd0717cpos.txt', 'drive/My Drive/cornell_dataset/07/pcd0718cpos.txt', 'drive/My Drive/cornell_dataset/07/pcd0719cpos.txt', 'drive/My Drive/cornell_dataset/07/pcd0720cpos.txt', 'drive/My Drive/cornell_dataset/07/pcd0721cpos.txt', 'drive/My Drive/cornell_dataset/07/pcd0722cpos.txt', 'drive/My Drive/cornell_dataset/07/pcd0723cpos.txt', 'drive/My Drive/cornell_dataset/07/pcd0724cpos.txt', 'drive/My Drive/cornell_dataset/07/pcd0725cpos.txt', 'drive/My Drive/cornell_dataset/07/pcd0726cpos.txt', 'drive/My Drive/cornell_dataset/07/pcd0727cpos.txt', 'drive/My Drive/cornell_dataset/07/pcd0728cpos.txt', 'drive/My Drive/cornell_dataset/07/pcd0729cpos.txt', 'drive/My Drive/cornell_dataset/07/pcd0730cpos.txt', 'drive/My Drive/cornell_dataset/07/pcd0731cpos.txt', 'drive/My Drive/cornell_dataset/07/pcd0732cpos.txt', 'drive/My Drive/cornell_dataset/07/pcd0733cpos.txt', 'drive/My Drive/cornell_dataset/07/pcd0734cpos.txt', 'drive/My Drive/cornell_dataset/07/pcd0735cpos.txt', 'drive/My Drive/cornell_dataset/07/pcd0736cpos.txt', 'drive/My Drive/cornell_dataset/07/pcd0737cpos.txt', 'drive/My Drive/cornell_dataset/07/pcd0738cpos.txt', 'drive/My Drive/cornell_dataset/07/pcd0739cpos.txt', 'drive/My Drive/cornell_dataset/07/pcd0740cpos.txt', 'drive/My Drive/cornell_dataset/07/pcd0741cpos.txt', 'drive/My Drive/cornell_dataset/07/pcd0742cpos.txt', 'drive/My Drive/cornell_dataset/07/pcd0743cpos.txt', 'drive/My Drive/cornell_dataset/07/pcd0744cpos.txt', 'drive/My Drive/cornell_dataset/07/pcd0745cpos.txt', 'drive/My Drive/cornell_dataset/07/pcd0746cpos.txt', 'drive/My Drive/cornell_dataset/07/pcd0747cpos.txt', 'drive/My Drive/cornell_dataset/07/pcd0748cpos.txt', 'drive/My Drive/cornell_dataset/07/pcd0749cpos.txt', 'drive/My Drive/cornell_dataset/07/pcd0750cpos.txt', 'drive/My Drive/cornell_dataset/07/pcd0751cpos.txt', 'drive/My Drive/cornell_dataset/07/pcd0752cpos.txt', 'drive/My Drive/cornell_dataset/07/pcd0753cpos.txt', 'drive/My Drive/cornell_dataset/07/pcd0754cpos.txt', 'drive/My Drive/cornell_dataset/07/pcd0755cpos.txt', 'drive/My Drive/cornell_dataset/07/pcd0756cpos.txt', 'drive/My Drive/cornell_dataset/07/pcd0757cpos.txt', 'drive/My Drive/cornell_dataset/07/pcd0758cpos.txt', 'drive/My Drive/cornell_dataset/07/pcd0759cpos.txt', 'drive/My Drive/cornell_dataset/07/pcd0760cpos.txt', 'drive/My Drive/cornell_dataset/07/pcd0761cpos.txt', 'drive/My Drive/cornell_dataset/07/pcd0762cpos.txt', 'drive/My Drive/cornell_dataset/07/pcd0763cpos.txt', 'drive/My Drive/cornell_dataset/07/pcd0764cpos.txt', 'drive/My Drive/cornell_dataset/07/pcd0765cpos.txt', 'drive/My Drive/cornell_dataset/07/pcd0766cpos.txt', 'drive/My Drive/cornell_dataset/07/pcd0767cpos.txt', 'drive/My Drive/cornell_dataset/07/pcd0768cpos.txt', 'drive/My Drive/cornell_dataset/07/pcd0769cpos.txt', 'drive/My Drive/cornell_dataset/07/pcd0770cpos.txt', 'drive/My Drive/cornell_dataset/07/pcd0771cpos.txt', 'drive/My Drive/cornell_dataset/07/pcd0772cpos.txt', 'drive/My Drive/cornell_dataset/07/pcd0773cpos.txt', 'drive/My Drive/cornell_dataset/07/pcd0774cpos.txt', 'drive/My Drive/cornell_dataset/07/pcd0775cpos.txt', 'drive/My Drive/cornell_dataset/07/pcd0776cpos.txt', 'drive/My Drive/cornell_dataset/07/pcd0777cpos.txt', 'drive/My Drive/cornell_dataset/07/pcd0778cpos.txt', 'drive/My Drive/cornell_dataset/07/pcd0779cpos.txt', 'drive/My Drive/cornell_dataset/07/pcd0780cpos.txt', 'drive/My Drive/cornell_dataset/07/pcd0781cpos.txt', 'drive/My Drive/cornell_dataset/07/pcd0782cpos.txt', 'drive/My Drive/cornell_dataset/07/pcd0783cpos.txt', 'drive/My Drive/cornell_dataset/07/pcd0784cpos.txt', 'drive/My Drive/cornell_dataset/07/pcd0785cpos.txt', 'drive/My Drive/cornell_dataset/07/pcd0786cpos.txt', 'drive/My Drive/cornell_dataset/07/pcd0787cpos.txt', 'drive/My Drive/cornell_dataset/07/pcd0788cpos.txt', 'drive/My Drive/cornell_dataset/07/pcd0789cpos.txt', 'drive/My Drive/cornell_dataset/07/pcd0790cpos.txt', 'drive/My Drive/cornell_dataset/07/pcd0791cpos.txt', 'drive/My Drive/cornell_dataset/07/pcd0792cpos.txt', 'drive/My Drive/cornell_dataset/07/pcd0793cpos.txt', 'drive/My Drive/cornell_dataset/07/pcd0794cpos.txt', 'drive/My Drive/cornell_dataset/07/pcd0795cpos.txt', 'drive/My Drive/cornell_dataset/07/pcd0796cpos.txt', 'drive/My Drive/cornell_dataset/07/pcd0797cpos.txt', 'drive/My Drive/cornell_dataset/07/pcd0798cpos.txt', 'drive/My Drive/cornell_dataset/07/pcd0799cpos.txt', 'drive/My Drive/cornell_dataset/08/pcd0800cpos.txt', 'drive/My Drive/cornell_dataset/08/pcd0801cpos.txt', 'drive/My Drive/cornell_dataset/08/pcd0802cpos.txt', 'drive/My Drive/cornell_dataset/08/pcd0803cpos.txt', 'drive/My Drive/cornell_dataset/08/pcd0804cpos.txt', 'drive/My Drive/cornell_dataset/08/pcd0805cpos.txt', 'drive/My Drive/cornell_dataset/08/pcd0806cpos.txt', 'drive/My Drive/cornell_dataset/08/pcd0807cpos.txt', 'drive/My Drive/cornell_dataset/08/pcd0808cpos.txt', 'drive/My Drive/cornell_dataset/08/pcd0809cpos.txt', 'drive/My Drive/cornell_dataset/08/pcd0810cpos.txt', 'drive/My Drive/cornell_dataset/08/pcd0811cpos.txt', 'drive/My Drive/cornell_dataset/08/pcd0812cpos.txt', 'drive/My Drive/cornell_dataset/08/pcd0813cpos.txt', 'drive/My Drive/cornell_dataset/08/pcd0814cpos.txt', 'drive/My Drive/cornell_dataset/08/pcd0815cpos.txt', 'drive/My Drive/cornell_dataset/08/pcd0816cpos.txt', 'drive/My Drive/cornell_dataset/08/pcd0817cpos.txt', 'drive/My Drive/cornell_dataset/08/pcd0818cpos.txt', 'drive/My Drive/cornell_dataset/08/pcd0819cpos.txt', 'drive/My Drive/cornell_dataset/08/pcd0820cpos.txt', 'drive/My Drive/cornell_dataset/08/pcd0821cpos.txt', 'drive/My Drive/cornell_dataset/08/pcd0822cpos.txt', 'drive/My Drive/cornell_dataset/08/pcd0823cpos.txt', 'drive/My Drive/cornell_dataset/08/pcd0824cpos.txt', 'drive/My Drive/cornell_dataset/08/pcd0825cpos.txt', 'drive/My Drive/cornell_dataset/08/pcd0826cpos.txt', 'drive/My Drive/cornell_dataset/08/pcd0827cpos.txt', 'drive/My Drive/cornell_dataset/08/pcd0828cpos.txt', 'drive/My Drive/cornell_dataset/08/pcd0829cpos.txt', 'drive/My Drive/cornell_dataset/08/pcd0830cpos.txt', 'drive/My Drive/cornell_dataset/08/pcd0831cpos.txt', 'drive/My Drive/cornell_dataset/08/pcd0832cpos.txt', 'drive/My Drive/cornell_dataset/08/pcd0833cpos.txt', 'drive/My Drive/cornell_dataset/08/pcd0834cpos.txt', 'drive/My Drive/cornell_dataset/08/pcd0835cpos.txt', 'drive/My Drive/cornell_dataset/08/pcd0836cpos.txt', 'drive/My Drive/cornell_dataset/08/pcd0837cpos.txt', 'drive/My Drive/cornell_dataset/08/pcd0838cpos.txt', 'drive/My Drive/cornell_dataset/08/pcd0839cpos.txt', 'drive/My Drive/cornell_dataset/08/pcd0840cpos.txt', 'drive/My Drive/cornell_dataset/08/pcd0841cpos.txt', 'drive/My Drive/cornell_dataset/08/pcd0842cpos.txt', 'drive/My Drive/cornell_dataset/08/pcd0843cpos.txt', 'drive/My Drive/cornell_dataset/08/pcd0844cpos.txt', 'drive/My Drive/cornell_dataset/08/pcd0845cpos.txt', 'drive/My Drive/cornell_dataset/08/pcd0846cpos.txt', 'drive/My Drive/cornell_dataset/08/pcd0847cpos.txt', 'drive/My Drive/cornell_dataset/08/pcd0848cpos.txt', 'drive/My Drive/cornell_dataset/08/pcd0849cpos.txt', 'drive/My Drive/cornell_dataset/08/pcd0850cpos.txt', 'drive/My Drive/cornell_dataset/08/pcd0851cpos.txt', 'drive/My Drive/cornell_dataset/08/pcd0852cpos.txt', 'drive/My Drive/cornell_dataset/08/pcd0853cpos.txt', 'drive/My Drive/cornell_dataset/08/pcd0854cpos.txt', 'drive/My Drive/cornell_dataset/08/pcd0855cpos.txt', 'drive/My Drive/cornell_dataset/08/pcd0856cpos.txt', 'drive/My Drive/cornell_dataset/08/pcd0857cpos.txt', 'drive/My Drive/cornell_dataset/08/pcd0858cpos.txt', 'drive/My Drive/cornell_dataset/08/pcd0859cpos.txt', 'drive/My Drive/cornell_dataset/08/pcd0860cpos.txt', 'drive/My Drive/cornell_dataset/08/pcd0861cpos.txt', 'drive/My Drive/cornell_dataset/08/pcd0862cpos.txt', 'drive/My Drive/cornell_dataset/08/pcd0863cpos.txt', 'drive/My Drive/cornell_dataset/08/pcd0864cpos.txt', 'drive/My Drive/cornell_dataset/08/pcd0865cpos.txt', 'drive/My Drive/cornell_dataset/08/pcd0866cpos.txt', 'drive/My Drive/cornell_dataset/08/pcd0867cpos.txt', 'drive/My Drive/cornell_dataset/08/pcd0868cpos.txt', 'drive/My Drive/cornell_dataset/08/pcd0869cpos.txt', 'drive/My Drive/cornell_dataset/08/pcd0870cpos.txt', 'drive/My Drive/cornell_dataset/08/pcd0871cpos.txt', 'drive/My Drive/cornell_dataset/08/pcd0872cpos.txt', 'drive/My Drive/cornell_dataset/08/pcd0873cpos.txt', 'drive/My Drive/cornell_dataset/08/pcd0874cpos.txt', 'drive/My Drive/cornell_dataset/08/pcd0875cpos.txt', 'drive/My Drive/cornell_dataset/08/pcd0876cpos.txt', 'drive/My Drive/cornell_dataset/08/pcd0877cpos.txt', 'drive/My Drive/cornell_dataset/08/pcd0878cpos.txt', 'drive/My Drive/cornell_dataset/08/pcd0879cpos.txt', 'drive/My Drive/cornell_dataset/08/pcd0880cpos.txt', 'drive/My Drive/cornell_dataset/08/pcd0881cpos.txt', 'drive/My Drive/cornell_dataset/08/pcd0882cpos.txt', 'drive/My Drive/cornell_dataset/08/pcd0883cpos.txt', 'drive/My Drive/cornell_dataset/08/pcd0884cpos.txt', 'drive/My Drive/cornell_dataset/08/pcd0885cpos.txt', 'drive/My Drive/cornell_dataset/08/pcd0886cpos.txt', 'drive/My Drive/cornell_dataset/08/pcd0887cpos.txt', 'drive/My Drive/cornell_dataset/08/pcd0888cpos.txt', 'drive/My Drive/cornell_dataset/08/pcd0889cpos.txt', 'drive/My Drive/cornell_dataset/08/pcd0890cpos.txt', 'drive/My Drive/cornell_dataset/08/pcd0891cpos.txt', 'drive/My Drive/cornell_dataset/08/pcd0892cpos.txt', 'drive/My Drive/cornell_dataset/08/pcd0893cpos.txt', 'drive/My Drive/cornell_dataset/08/pcd0894cpos.txt', 'drive/My Drive/cornell_dataset/08/pcd0895cpos.txt', 'drive/My Drive/cornell_dataset/08/pcd0896cpos.txt', 'drive/My Drive/cornell_dataset/08/pcd0897cpos.txt', 'drive/My Drive/cornell_dataset/08/pcd0898cpos.txt', 'drive/My Drive/cornell_dataset/08/pcd0899cpos.txt', 'drive/My Drive/cornell_dataset/09/pcd0900cpos.txt', 'drive/My Drive/cornell_dataset/09/pcd0901cpos.txt', 'drive/My Drive/cornell_dataset/09/pcd0902cpos.txt', 'drive/My Drive/cornell_dataset/09/pcd0903cpos.txt', 'drive/My Drive/cornell_dataset/09/pcd0904cpos.txt', 'drive/My Drive/cornell_dataset/09/pcd0905cpos.txt', 'drive/My Drive/cornell_dataset/09/pcd0906cpos.txt', 'drive/My Drive/cornell_dataset/09/pcd0907cpos.txt', 'drive/My Drive/cornell_dataset/09/pcd0908cpos.txt', 'drive/My Drive/cornell_dataset/09/pcd0909cpos.txt', 'drive/My Drive/cornell_dataset/09/pcd0910cpos.txt', 'drive/My Drive/cornell_dataset/09/pcd0911cpos.txt', 'drive/My Drive/cornell_dataset/09/pcd0912cpos.txt', 'drive/My Drive/cornell_dataset/09/pcd0913cpos.txt', 'drive/My Drive/cornell_dataset/09/pcd0914cpos.txt', 'drive/My Drive/cornell_dataset/09/pcd0915cpos.txt', 'drive/My Drive/cornell_dataset/09/pcd0916cpos.txt', 'drive/My Drive/cornell_dataset/09/pcd0917cpos.txt', 'drive/My Drive/cornell_dataset/09/pcd0918cpos.txt', 'drive/My Drive/cornell_dataset/09/pcd0919cpos.txt', 'drive/My Drive/cornell_dataset/09/pcd0920cpos.txt', 'drive/My Drive/cornell_dataset/09/pcd0921cpos.txt', 'drive/My Drive/cornell_dataset/09/pcd0922cpos.txt', 'drive/My Drive/cornell_dataset/09/pcd0923cpos.txt', 'drive/My Drive/cornell_dataset/09/pcd0924cpos.txt', 'drive/My Drive/cornell_dataset/09/pcd0925cpos.txt', 'drive/My Drive/cornell_dataset/09/pcd0926cpos.txt', 'drive/My Drive/cornell_dataset/09/pcd0927cpos.txt', 'drive/My Drive/cornell_dataset/09/pcd0928cpos.txt', 'drive/My Drive/cornell_dataset/09/pcd0929cpos.txt', 'drive/My Drive/cornell_dataset/09/pcd0930cpos.txt', 'drive/My Drive/cornell_dataset/09/pcd0931cpos.txt', 'drive/My Drive/cornell_dataset/09/pcd0932cpos.txt', 'drive/My Drive/cornell_dataset/09/pcd0933cpos.txt', 'drive/My Drive/cornell_dataset/09/pcd0934cpos.txt', 'drive/My Drive/cornell_dataset/09/pcd0935cpos.txt', 'drive/My Drive/cornell_dataset/09/pcd0936cpos.txt', 'drive/My Drive/cornell_dataset/09/pcd0937cpos.txt', 'drive/My Drive/cornell_dataset/09/pcd0938cpos.txt', 'drive/My Drive/cornell_dataset/09/pcd0939cpos.txt', 'drive/My Drive/cornell_dataset/09/pcd0940cpos.txt', 'drive/My Drive/cornell_dataset/09/pcd0941cpos.txt', 'drive/My Drive/cornell_dataset/09/pcd0942cpos.txt', 'drive/My Drive/cornell_dataset/09/pcd0943cpos.txt', 'drive/My Drive/cornell_dataset/09/pcd0944cpos.txt', 'drive/My Drive/cornell_dataset/09/pcd0945cpos.txt', 'drive/My Drive/cornell_dataset/09/pcd0946cpos.txt', 'drive/My Drive/cornell_dataset/09/pcd0947cpos.txt', 'drive/My Drive/cornell_dataset/09/pcd0948cpos.txt', 'drive/My Drive/cornell_dataset/09/pcd0949cpos.txt']\n"
          ],
          "name": "stdout"
        },
        {
          "output_type": "error",
          "ename": "KeyboardInterrupt",
          "evalue": "ignored",
          "traceback": [
            "\u001b[0;31m---------------------------------------------------------------------------\u001b[0m",
            "\u001b[0;31mKeyboardInterrupt\u001b[0m                         Traceback (most recent call last)",
            "\u001b[0;32m<ipython-input-3-9ca5cb651f00>\u001b[0m in \u001b[0;36m<module>\u001b[0;34m()\u001b[0m\n\u001b[1;32m    305\u001b[0m         \u001b[0mplt\u001b[0m\u001b[0;34m.\u001b[0m\u001b[0mclose\u001b[0m\u001b[0;34m(\u001b[0m\u001b[0mfig\u001b[0m\u001b[0;34m)\u001b[0m\u001b[0;34m\u001b[0m\u001b[0;34m\u001b[0m\u001b[0m\n\u001b[1;32m    306\u001b[0m \u001b[0;32mif\u001b[0m \u001b[0m__name__\u001b[0m \u001b[0;34m==\u001b[0m \u001b[0;34m'__main__'\u001b[0m\u001b[0;34m:\u001b[0m\u001b[0;34m\u001b[0m\u001b[0;34m\u001b[0m\u001b[0m\n\u001b[0;32m--> 307\u001b[0;31m     \u001b[0mrun\u001b[0m\u001b[0;34m(\u001b[0m\u001b[0;34m)\u001b[0m\u001b[0;34m\u001b[0m\u001b[0;34m\u001b[0m\u001b[0m\n\u001b[0m",
            "\u001b[0;32m<ipython-input-3-9ca5cb651f00>\u001b[0m in \u001b[0;36mrun\u001b[0;34m()\u001b[0m\n\u001b[1;32m    205\u001b[0m     train_dataset = Dataset(args.dataset_path, start=0.0, end=args.split, ds_rotate=args.ds_rotate,\n\u001b[1;32m    206\u001b[0m                             \u001b[0mrandom_rotate\u001b[0m\u001b[0;34m=\u001b[0m\u001b[0;32mTrue\u001b[0m\u001b[0;34m,\u001b[0m \u001b[0mrandom_zoom\u001b[0m\u001b[0;34m=\u001b[0m\u001b[0;32mTrue\u001b[0m\u001b[0;34m,\u001b[0m\u001b[0;34m\u001b[0m\u001b[0;34m\u001b[0m\u001b[0m\n\u001b[0;32m--> 207\u001b[0;31m                             include_depth=args.use_depth, include_rgb=args.use_rgb)\n\u001b[0m\u001b[1;32m    208\u001b[0m \u001b[0;34m\u001b[0m\u001b[0m\n\u001b[1;32m    209\u001b[0m \u001b[0;34m\u001b[0m\u001b[0m\n",
            "\u001b[0;32m/content/ggcnn/utils/data/cornell_data.py\u001b[0m in \u001b[0;36m__init__\u001b[0;34m(self, file_path, start, end, ds_rotate, **kwargs)\u001b[0m\n\u001b[1;32m     40\u001b[0m         \u001b[0mself\u001b[0m\u001b[0;34m.\u001b[0m\u001b[0mmin_depth\u001b[0m \u001b[0;34m=\u001b[0m \u001b[0;36m2\u001b[0m\u001b[0;34m\u001b[0m\u001b[0;34m\u001b[0m\u001b[0m\n\u001b[1;32m     41\u001b[0m         \u001b[0;32mfor\u001b[0m \u001b[0mfile\u001b[0m \u001b[0;32min\u001b[0m \u001b[0mdepthf\u001b[0m\u001b[0;34m:\u001b[0m\u001b[0;34m\u001b[0m\u001b[0;34m\u001b[0m\u001b[0m\n\u001b[0;32m---> 42\u001b[0;31m             \u001b[0mdepth_img\u001b[0m \u001b[0;34m=\u001b[0m \u001b[0mimage\u001b[0m\u001b[0;34m.\u001b[0m\u001b[0mDepthImage\u001b[0m\u001b[0;34m.\u001b[0m\u001b[0mfrom_tiff\u001b[0m\u001b[0;34m(\u001b[0m\u001b[0mfile\u001b[0m\u001b[0;34m)\u001b[0m\u001b[0;34m\u001b[0m\u001b[0;34m\u001b[0m\u001b[0m\n\u001b[0m\u001b[1;32m     43\u001b[0m             \u001b[0;32mif\u001b[0m \u001b[0mnp\u001b[0m\u001b[0;34m.\u001b[0m\u001b[0mmax\u001b[0m\u001b[0;34m(\u001b[0m\u001b[0mdepth_img\u001b[0m\u001b[0;34m.\u001b[0m\u001b[0mimg\u001b[0m\u001b[0;34m)\u001b[0m \u001b[0;34m>\u001b[0m \u001b[0mself\u001b[0m\u001b[0;34m.\u001b[0m\u001b[0mmax_depth\u001b[0m\u001b[0;34m:\u001b[0m\u001b[0;34m\u001b[0m\u001b[0;34m\u001b[0m\u001b[0m\n\u001b[1;32m     44\u001b[0m                 \u001b[0mself\u001b[0m\u001b[0;34m.\u001b[0m\u001b[0mmax_depth\u001b[0m \u001b[0;34m=\u001b[0m \u001b[0mnp\u001b[0m\u001b[0;34m.\u001b[0m\u001b[0mmax\u001b[0m\u001b[0;34m(\u001b[0m\u001b[0mdepth_img\u001b[0m\u001b[0;34m.\u001b[0m\u001b[0mimg\u001b[0m\u001b[0;34m)\u001b[0m\u001b[0;34m\u001b[0m\u001b[0;34m\u001b[0m\u001b[0m\n",
            "\u001b[0;32m/content/ggcnn/utils/dataset_processing/image.py\u001b[0m in \u001b[0;36mfrom_tiff\u001b[0;34m(cls, fname)\u001b[0m\n\u001b[1;32m    173\u001b[0m     \u001b[0;34m@\u001b[0m\u001b[0mclassmethod\u001b[0m\u001b[0;34m\u001b[0m\u001b[0;34m\u001b[0m\u001b[0m\n\u001b[1;32m    174\u001b[0m     \u001b[0;32mdef\u001b[0m \u001b[0mfrom_tiff\u001b[0m\u001b[0;34m(\u001b[0m\u001b[0mcls\u001b[0m\u001b[0;34m,\u001b[0m \u001b[0mfname\u001b[0m\u001b[0;34m)\u001b[0m\u001b[0;34m:\u001b[0m\u001b[0;34m\u001b[0m\u001b[0;34m\u001b[0m\u001b[0m\n\u001b[0;32m--> 175\u001b[0;31m         \u001b[0;32mreturn\u001b[0m \u001b[0mcls\u001b[0m\u001b[0;34m(\u001b[0m\u001b[0mimread\u001b[0m\u001b[0;34m(\u001b[0m\u001b[0mfname\u001b[0m\u001b[0;34m)\u001b[0m\u001b[0;34m)\u001b[0m\u001b[0;34m\u001b[0m\u001b[0;34m\u001b[0m\u001b[0m\n\u001b[0m\u001b[1;32m    176\u001b[0m \u001b[0;34m\u001b[0m\u001b[0m\n\u001b[1;32m    177\u001b[0m     \u001b[0;32mdef\u001b[0m \u001b[0minpaint\u001b[0m\u001b[0;34m(\u001b[0m\u001b[0mself\u001b[0m\u001b[0;34m,\u001b[0m \u001b[0mmissing_value\u001b[0m\u001b[0;34m=\u001b[0m\u001b[0;36m0\u001b[0m\u001b[0;34m)\u001b[0m\u001b[0;34m:\u001b[0m\u001b[0;34m\u001b[0m\u001b[0;34m\u001b[0m\u001b[0m\n",
            "\u001b[0;32m/usr/local/lib/python3.6/dist-packages/imageio/core/functions.py\u001b[0m in \u001b[0;36mimread\u001b[0;34m(uri, format, **kwargs)\u001b[0m\n\u001b[1;32m    219\u001b[0m \u001b[0;34m\u001b[0m\u001b[0m\n\u001b[1;32m    220\u001b[0m     \u001b[0;31m# Get reader and read first\u001b[0m\u001b[0;34m\u001b[0m\u001b[0;34m\u001b[0m\u001b[0;34m\u001b[0m\u001b[0m\n\u001b[0;32m--> 221\u001b[0;31m     \u001b[0mreader\u001b[0m \u001b[0;34m=\u001b[0m \u001b[0mread\u001b[0m\u001b[0;34m(\u001b[0m\u001b[0muri\u001b[0m\u001b[0;34m,\u001b[0m \u001b[0mformat\u001b[0m\u001b[0;34m,\u001b[0m \u001b[0;34m\"i\"\u001b[0m\u001b[0;34m,\u001b[0m \u001b[0;34m**\u001b[0m\u001b[0mkwargs\u001b[0m\u001b[0;34m)\u001b[0m\u001b[0;34m\u001b[0m\u001b[0;34m\u001b[0m\u001b[0m\n\u001b[0m\u001b[1;32m    222\u001b[0m     \u001b[0;32mwith\u001b[0m \u001b[0mreader\u001b[0m\u001b[0;34m:\u001b[0m\u001b[0;34m\u001b[0m\u001b[0;34m\u001b[0m\u001b[0m\n\u001b[1;32m    223\u001b[0m         \u001b[0;32mreturn\u001b[0m \u001b[0mreader\u001b[0m\u001b[0;34m.\u001b[0m\u001b[0mget_data\u001b[0m\u001b[0;34m(\u001b[0m\u001b[0;36m0\u001b[0m\u001b[0;34m)\u001b[0m\u001b[0;34m\u001b[0m\u001b[0;34m\u001b[0m\u001b[0m\n",
            "\u001b[0;32m/usr/local/lib/python3.6/dist-packages/imageio/core/functions.py\u001b[0m in \u001b[0;36mget_reader\u001b[0;34m(uri, format, mode, **kwargs)\u001b[0m\n\u001b[1;32m    141\u001b[0m \u001b[0;34m\u001b[0m\u001b[0m\n\u001b[1;32m    142\u001b[0m     \u001b[0;31m# Return its reader object\u001b[0m\u001b[0;34m\u001b[0m\u001b[0;34m\u001b[0m\u001b[0;34m\u001b[0m\u001b[0m\n\u001b[0;32m--> 143\u001b[0;31m     \u001b[0;32mreturn\u001b[0m \u001b[0mformat\u001b[0m\u001b[0;34m.\u001b[0m\u001b[0mget_reader\u001b[0m\u001b[0;34m(\u001b[0m\u001b[0mrequest\u001b[0m\u001b[0;34m)\u001b[0m\u001b[0;34m\u001b[0m\u001b[0;34m\u001b[0m\u001b[0m\n\u001b[0m\u001b[1;32m    144\u001b[0m \u001b[0;34m\u001b[0m\u001b[0m\n\u001b[1;32m    145\u001b[0m \u001b[0;34m\u001b[0m\u001b[0m\n",
            "\u001b[0;32m/usr/local/lib/python3.6/dist-packages/imageio/core/format.py\u001b[0m in \u001b[0;36mget_reader\u001b[0;34m(self, request)\u001b[0m\n\u001b[1;32m    172\u001b[0m                 \u001b[0;34m\"Format %s cannot read in mode %r\"\u001b[0m \u001b[0;34m%\u001b[0m \u001b[0;34m(\u001b[0m\u001b[0mself\u001b[0m\u001b[0;34m.\u001b[0m\u001b[0mname\u001b[0m\u001b[0;34m,\u001b[0m \u001b[0mselect_mode\u001b[0m\u001b[0;34m)\u001b[0m\u001b[0;34m\u001b[0m\u001b[0;34m\u001b[0m\u001b[0m\n\u001b[1;32m    173\u001b[0m             )\n\u001b[0;32m--> 174\u001b[0;31m         \u001b[0;32mreturn\u001b[0m \u001b[0mself\u001b[0m\u001b[0;34m.\u001b[0m\u001b[0mReader\u001b[0m\u001b[0;34m(\u001b[0m\u001b[0mself\u001b[0m\u001b[0;34m,\u001b[0m \u001b[0mrequest\u001b[0m\u001b[0;34m)\u001b[0m\u001b[0;34m\u001b[0m\u001b[0;34m\u001b[0m\u001b[0m\n\u001b[0m\u001b[1;32m    175\u001b[0m \u001b[0;34m\u001b[0m\u001b[0m\n\u001b[1;32m    176\u001b[0m     \u001b[0;32mdef\u001b[0m \u001b[0mget_writer\u001b[0m\u001b[0;34m(\u001b[0m\u001b[0mself\u001b[0m\u001b[0;34m,\u001b[0m \u001b[0mrequest\u001b[0m\u001b[0;34m)\u001b[0m\u001b[0;34m:\u001b[0m\u001b[0;34m\u001b[0m\u001b[0;34m\u001b[0m\u001b[0m\n",
            "\u001b[0;32m/usr/local/lib/python3.6/dist-packages/imageio/core/format.py\u001b[0m in \u001b[0;36m__init__\u001b[0;34m(self, format, request)\u001b[0m\n\u001b[1;32m    222\u001b[0m             \u001b[0mself\u001b[0m\u001b[0;34m.\u001b[0m\u001b[0m_request\u001b[0m \u001b[0;34m=\u001b[0m \u001b[0mrequest\u001b[0m\u001b[0;34m\u001b[0m\u001b[0;34m\u001b[0m\u001b[0m\n\u001b[1;32m    223\u001b[0m             \u001b[0;31m# Open the reader/writer\u001b[0m\u001b[0;34m\u001b[0m\u001b[0;34m\u001b[0m\u001b[0;34m\u001b[0m\u001b[0m\n\u001b[0;32m--> 224\u001b[0;31m             \u001b[0mself\u001b[0m\u001b[0;34m.\u001b[0m\u001b[0m_open\u001b[0m\u001b[0;34m(\u001b[0m\u001b[0;34m**\u001b[0m\u001b[0mself\u001b[0m\u001b[0;34m.\u001b[0m\u001b[0mrequest\u001b[0m\u001b[0;34m.\u001b[0m\u001b[0mkwargs\u001b[0m\u001b[0;34m.\u001b[0m\u001b[0mcopy\u001b[0m\u001b[0;34m(\u001b[0m\u001b[0;34m)\u001b[0m\u001b[0;34m)\u001b[0m\u001b[0;34m\u001b[0m\u001b[0;34m\u001b[0m\u001b[0m\n\u001b[0m\u001b[1;32m    225\u001b[0m \u001b[0;34m\u001b[0m\u001b[0m\n\u001b[1;32m    226\u001b[0m         \u001b[0;34m@\u001b[0m\u001b[0mproperty\u001b[0m\u001b[0;34m\u001b[0m\u001b[0;34m\u001b[0m\u001b[0m\n",
            "\u001b[0;32m/usr/local/lib/python3.6/dist-packages/imageio/plugins/tifffile.py\u001b[0m in \u001b[0;36m_open\u001b[0;34m(self, **kwargs)\u001b[0m\n\u001b[1;32m    227\u001b[0m                 \u001b[0mself\u001b[0m\u001b[0;34m.\u001b[0m\u001b[0m_f\u001b[0m \u001b[0;34m=\u001b[0m \u001b[0;32mNone\u001b[0m\u001b[0;34m\u001b[0m\u001b[0;34m\u001b[0m\u001b[0m\n\u001b[1;32m    228\u001b[0m                 \u001b[0mf\u001b[0m \u001b[0;34m=\u001b[0m \u001b[0mself\u001b[0m\u001b[0;34m.\u001b[0m\u001b[0mrequest\u001b[0m\u001b[0;34m.\u001b[0m\u001b[0mget_file\u001b[0m\u001b[0;34m(\u001b[0m\u001b[0;34m)\u001b[0m\u001b[0;34m\u001b[0m\u001b[0;34m\u001b[0m\u001b[0m\n\u001b[0;32m--> 229\u001b[0;31m             \u001b[0mself\u001b[0m\u001b[0;34m.\u001b[0m\u001b[0m_tf\u001b[0m \u001b[0;34m=\u001b[0m \u001b[0m_tifffile\u001b[0m\u001b[0;34m.\u001b[0m\u001b[0mTiffFile\u001b[0m\u001b[0;34m(\u001b[0m\u001b[0mf\u001b[0m\u001b[0;34m,\u001b[0m \u001b[0;34m**\u001b[0m\u001b[0mkwargs\u001b[0m\u001b[0;34m)\u001b[0m\u001b[0;34m\u001b[0m\u001b[0;34m\u001b[0m\u001b[0m\n\u001b[0m\u001b[1;32m    230\u001b[0m \u001b[0;34m\u001b[0m\u001b[0m\n\u001b[1;32m    231\u001b[0m             \u001b[0;31m# metadata is the same for all images\u001b[0m\u001b[0;34m\u001b[0m\u001b[0;34m\u001b[0m\u001b[0;34m\u001b[0m\u001b[0m\n",
            "\u001b[0;32m/usr/local/lib/python3.6/dist-packages/imageio/plugins/_tifffile.py\u001b[0m in \u001b[0;36m__init__\u001b[0;34m(self, arg, name, offset, size, multifile, movie, **kwargs)\u001b[0m\n\u001b[1;32m   1599\u001b[0m             \u001b[0mfh\u001b[0m\u001b[0;34m.\u001b[0m\u001b[0mseek\u001b[0m\u001b[0;34m(\u001b[0m\u001b[0;36m0\u001b[0m\u001b[0;34m)\u001b[0m\u001b[0;34m\u001b[0m\u001b[0;34m\u001b[0m\u001b[0m\n\u001b[1;32m   1600\u001b[0m             \u001b[0;32mtry\u001b[0m\u001b[0;34m:\u001b[0m\u001b[0;34m\u001b[0m\u001b[0;34m\u001b[0m\u001b[0m\n\u001b[0;32m-> 1601\u001b[0;31m                 \u001b[0mbyteorder\u001b[0m \u001b[0;34m=\u001b[0m \u001b[0;34m{\u001b[0m\u001b[0;34mb'II'\u001b[0m\u001b[0;34m:\u001b[0m \u001b[0;34m'<'\u001b[0m\u001b[0;34m,\u001b[0m \u001b[0;34mb'MM'\u001b[0m\u001b[0;34m:\u001b[0m \u001b[0;34m'>'\u001b[0m\u001b[0;34m}\u001b[0m\u001b[0;34m[\u001b[0m\u001b[0mfh\u001b[0m\u001b[0;34m.\u001b[0m\u001b[0mread\u001b[0m\u001b[0;34m(\u001b[0m\u001b[0;36m2\u001b[0m\u001b[0;34m)\u001b[0m\u001b[0;34m]\u001b[0m\u001b[0;34m\u001b[0m\u001b[0;34m\u001b[0m\u001b[0m\n\u001b[0m\u001b[1;32m   1602\u001b[0m             \u001b[0;32mexcept\u001b[0m \u001b[0mKeyError\u001b[0m\u001b[0;34m:\u001b[0m\u001b[0;34m\u001b[0m\u001b[0;34m\u001b[0m\u001b[0m\n\u001b[1;32m   1603\u001b[0m                 \u001b[0;32mraise\u001b[0m \u001b[0mValueError\u001b[0m\u001b[0;34m(\u001b[0m\u001b[0;34m\"invalid TIFF file\"\u001b[0m\u001b[0;34m)\u001b[0m\u001b[0;34m\u001b[0m\u001b[0;34m\u001b[0m\u001b[0m\n",
            "\u001b[0;32m/usr/local/lib/python3.6/dist-packages/imageio/plugins/_tifffile.py\u001b[0m in \u001b[0;36mread\u001b[0;34m(self, size)\u001b[0m\n\u001b[1;32m   4372\u001b[0m         \u001b[0;32mif\u001b[0m \u001b[0msize\u001b[0m \u001b[0;34m<\u001b[0m \u001b[0;36m0\u001b[0m \u001b[0;32mand\u001b[0m \u001b[0mself\u001b[0m\u001b[0;34m.\u001b[0m\u001b[0m_offset\u001b[0m\u001b[0;34m:\u001b[0m\u001b[0;34m\u001b[0m\u001b[0;34m\u001b[0m\u001b[0m\n\u001b[1;32m   4373\u001b[0m             \u001b[0msize\u001b[0m \u001b[0;34m=\u001b[0m \u001b[0mself\u001b[0m\u001b[0;34m.\u001b[0m\u001b[0m_size\u001b[0m\u001b[0;34m\u001b[0m\u001b[0;34m\u001b[0m\u001b[0m\n\u001b[0;32m-> 4374\u001b[0;31m         \u001b[0;32mreturn\u001b[0m \u001b[0mself\u001b[0m\u001b[0;34m.\u001b[0m\u001b[0m_fh\u001b[0m\u001b[0;34m.\u001b[0m\u001b[0mread\u001b[0m\u001b[0;34m(\u001b[0m\u001b[0msize\u001b[0m\u001b[0;34m)\u001b[0m\u001b[0;34m\u001b[0m\u001b[0;34m\u001b[0m\u001b[0m\n\u001b[0m\u001b[1;32m   4375\u001b[0m \u001b[0;34m\u001b[0m\u001b[0m\n\u001b[1;32m   4376\u001b[0m     \u001b[0;32mdef\u001b[0m \u001b[0mwrite\u001b[0m\u001b[0;34m(\u001b[0m\u001b[0mself\u001b[0m\u001b[0;34m,\u001b[0m \u001b[0mbytestring\u001b[0m\u001b[0;34m)\u001b[0m\u001b[0;34m:\u001b[0m\u001b[0;34m\u001b[0m\u001b[0;34m\u001b[0m\u001b[0m\n",
            "\u001b[0;31mKeyboardInterrupt\u001b[0m: "
          ]
        }
      ]
    },
    {
      "cell_type": "code",
      "metadata": {
        "id": "kV9elYmLBgbW",
        "colab_type": "code",
        "outputId": "a2e8ecf4-84b8-46ed-f1ce-e99492889cac",
        "colab": {
          "base_uri": "https://localhost:8080/",
          "height": 51
        }
      },
      "source": [
        "!nvidia-smi"
      ],
      "execution_count": 0,
      "outputs": [
        {
          "output_type": "stream",
          "text": [
            "NVIDIA-SMI has failed because it couldn't communicate with the NVIDIA driver. Make sure that the latest NVIDIA driver is installed and running.\n",
            "\n"
          ],
          "name": "stdout"
        }
      ]
    },
    {
      "cell_type": "code",
      "metadata": {
        "id": "I10E0C5SBv5q",
        "colab_type": "code",
        "outputId": "ef7ff02a-5155-4cf1-e66c-f1bd0f62712c",
        "colab": {
          "base_uri": "https://localhost:8080/",
          "height": 85
        }
      },
      "source": [
        "!nvcc --version"
      ],
      "execution_count": 0,
      "outputs": [
        {
          "output_type": "stream",
          "text": [
            "nvcc: NVIDIA (R) Cuda compiler driver\n",
            "Copyright (c) 2005-2018 NVIDIA Corporation\n",
            "Built on Sat_Aug_25_21:08:01_CDT_2018\n",
            "Cuda compilation tools, release 10.0, V10.0.130\n"
          ],
          "name": "stdout"
        }
      ]
    }
  ]
}